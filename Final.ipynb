{
 "cells": [
  {
   "cell_type": "code",
   "execution_count": 1,
   "id": "8c59b235",
   "metadata": {},
   "outputs": [],
   "source": [
    "import pandas as pd\n",
    "import numpy as np\n",
    "import matplotlib.pyplot as plt\n",
    "from datetime import datetime, timedelta"
   ]
  },
  {
   "cell_type": "markdown",
   "id": "532584e6",
   "metadata": {},
   "source": [
    "# 1.Thu thập dữ liệu"
   ]
  },
  {
   "cell_type": "markdown",
   "id": "22089c15",
   "metadata": {},
   "source": [
    "## Dữ liệu sử dụng\n",
    "Thống kê dữ liệu theo từng ngày các trường hợp mắc bệnh, tử vong, hồi phục từ 22/1/2020 - 20/6/2021\n",
    "<br>\n",
    "Các dữ liệu đều được lấy từ kho dữ liệu COVID-19 của Trung tâm Khoa học và Kỹ thuật Hệ thống (CSSE) thuộc Đại học Johns Hopkins (USA)\n",
    "<br>\n",
    "Đường link lấy dữ liệu: https://github.com/CSSEGISandData/COVID-19\n",
    "<br>\n",
    "Điều kiện để được sử dụng dữ liệu: Trích dẫn 1 đoạn mà người public dữ liệu yêu cầu (Đã trích dẫn ở cuối bài làm)\n",
    "<br>\n",
    "Người ta thu thập dữ liệu bằng cách lấy thông tin từ 1 số lượng lớn các trang web. Đa số thì sẽ lấy thông tin từ từng Quốc Gia"
   ]
  },
  {
   "cell_type": "code",
   "execution_count": 2,
   "id": "62f240e0",
   "metadata": {},
   "outputs": [
    {
     "data": {
      "text/html": [
       "<div>\n",
       "<style scoped>\n",
       "    .dataframe tbody tr th:only-of-type {\n",
       "        vertical-align: middle;\n",
       "    }\n",
       "\n",
       "    .dataframe tbody tr th {\n",
       "        vertical-align: top;\n",
       "    }\n",
       "\n",
       "    .dataframe thead th {\n",
       "        text-align: right;\n",
       "    }\n",
       "</style>\n",
       "<table border=\"1\" class=\"dataframe\">\n",
       "  <thead>\n",
       "    <tr style=\"text-align: right;\">\n",
       "      <th></th>\n",
       "      <th>Province/State</th>\n",
       "      <th>Country/Region</th>\n",
       "      <th>Lat</th>\n",
       "      <th>Long</th>\n",
       "      <th>1/22/20</th>\n",
       "      <th>1/23/20</th>\n",
       "      <th>1/24/20</th>\n",
       "      <th>1/25/20</th>\n",
       "      <th>1/26/20</th>\n",
       "      <th>1/27/20</th>\n",
       "      <th>...</th>\n",
       "      <th>6/11/21</th>\n",
       "      <th>6/12/21</th>\n",
       "      <th>6/13/21</th>\n",
       "      <th>6/14/21</th>\n",
       "      <th>6/15/21</th>\n",
       "      <th>6/16/21</th>\n",
       "      <th>6/17/21</th>\n",
       "      <th>6/18/21</th>\n",
       "      <th>6/19/21</th>\n",
       "      <th>6/20/21</th>\n",
       "    </tr>\n",
       "  </thead>\n",
       "  <tbody>\n",
       "    <tr>\n",
       "      <th>0</th>\n",
       "      <td>NaN</td>\n",
       "      <td>Afghanistan</td>\n",
       "      <td>33.93911</td>\n",
       "      <td>67.709953</td>\n",
       "      <td>0</td>\n",
       "      <td>0</td>\n",
       "      <td>0</td>\n",
       "      <td>0</td>\n",
       "      <td>0</td>\n",
       "      <td>0</td>\n",
       "      <td>...</td>\n",
       "      <td>87716</td>\n",
       "      <td>88740</td>\n",
       "      <td>89861</td>\n",
       "      <td>91458</td>\n",
       "      <td>93272</td>\n",
       "      <td>93288</td>\n",
       "      <td>96531</td>\n",
       "      <td>98734</td>\n",
       "      <td>98734</td>\n",
       "      <td>98734</td>\n",
       "    </tr>\n",
       "    <tr>\n",
       "      <th>1</th>\n",
       "      <td>NaN</td>\n",
       "      <td>Albania</td>\n",
       "      <td>41.15330</td>\n",
       "      <td>20.168300</td>\n",
       "      <td>0</td>\n",
       "      <td>0</td>\n",
       "      <td>0</td>\n",
       "      <td>0</td>\n",
       "      <td>0</td>\n",
       "      <td>0</td>\n",
       "      <td>...</td>\n",
       "      <td>132437</td>\n",
       "      <td>132449</td>\n",
       "      <td>132459</td>\n",
       "      <td>132461</td>\n",
       "      <td>132469</td>\n",
       "      <td>132476</td>\n",
       "      <td>132481</td>\n",
       "      <td>132484</td>\n",
       "      <td>132488</td>\n",
       "      <td>132490</td>\n",
       "    </tr>\n",
       "    <tr>\n",
       "      <th>2</th>\n",
       "      <td>NaN</td>\n",
       "      <td>Algeria</td>\n",
       "      <td>28.03390</td>\n",
       "      <td>1.659600</td>\n",
       "      <td>0</td>\n",
       "      <td>0</td>\n",
       "      <td>0</td>\n",
       "      <td>0</td>\n",
       "      <td>0</td>\n",
       "      <td>0</td>\n",
       "      <td>...</td>\n",
       "      <td>132727</td>\n",
       "      <td>133070</td>\n",
       "      <td>133388</td>\n",
       "      <td>133742</td>\n",
       "      <td>134115</td>\n",
       "      <td>134458</td>\n",
       "      <td>134840</td>\n",
       "      <td>135219</td>\n",
       "      <td>135586</td>\n",
       "      <td>135821</td>\n",
       "    </tr>\n",
       "    <tr>\n",
       "      <th>3</th>\n",
       "      <td>NaN</td>\n",
       "      <td>Andorra</td>\n",
       "      <td>42.50630</td>\n",
       "      <td>1.521800</td>\n",
       "      <td>0</td>\n",
       "      <td>0</td>\n",
       "      <td>0</td>\n",
       "      <td>0</td>\n",
       "      <td>0</td>\n",
       "      <td>0</td>\n",
       "      <td>...</td>\n",
       "      <td>13813</td>\n",
       "      <td>13813</td>\n",
       "      <td>13813</td>\n",
       "      <td>13826</td>\n",
       "      <td>13828</td>\n",
       "      <td>13836</td>\n",
       "      <td>13839</td>\n",
       "      <td>13842</td>\n",
       "      <td>13842</td>\n",
       "      <td>13842</td>\n",
       "    </tr>\n",
       "    <tr>\n",
       "      <th>4</th>\n",
       "      <td>NaN</td>\n",
       "      <td>Angola</td>\n",
       "      <td>-11.20270</td>\n",
       "      <td>17.873900</td>\n",
       "      <td>0</td>\n",
       "      <td>0</td>\n",
       "      <td>0</td>\n",
       "      <td>0</td>\n",
       "      <td>0</td>\n",
       "      <td>0</td>\n",
       "      <td>...</td>\n",
       "      <td>36455</td>\n",
       "      <td>36600</td>\n",
       "      <td>36705</td>\n",
       "      <td>36790</td>\n",
       "      <td>36921</td>\n",
       "      <td>37094</td>\n",
       "      <td>37289</td>\n",
       "      <td>37467</td>\n",
       "      <td>37604</td>\n",
       "      <td>37678</td>\n",
       "    </tr>\n",
       "  </tbody>\n",
       "</table>\n",
       "<p>5 rows × 520 columns</p>\n",
       "</div>"
      ],
      "text/plain": [
       "  Province/State Country/Region       Lat       Long  1/22/20  1/23/20  \\\n",
       "0            NaN    Afghanistan  33.93911  67.709953        0        0   \n",
       "1            NaN        Albania  41.15330  20.168300        0        0   \n",
       "2            NaN        Algeria  28.03390   1.659600        0        0   \n",
       "3            NaN        Andorra  42.50630   1.521800        0        0   \n",
       "4            NaN         Angola -11.20270  17.873900        0        0   \n",
       "\n",
       "   1/24/20  1/25/20  1/26/20  1/27/20  ...  6/11/21  6/12/21  6/13/21  \\\n",
       "0        0        0        0        0  ...    87716    88740    89861   \n",
       "1        0        0        0        0  ...   132437   132449   132459   \n",
       "2        0        0        0        0  ...   132727   133070   133388   \n",
       "3        0        0        0        0  ...    13813    13813    13813   \n",
       "4        0        0        0        0  ...    36455    36600    36705   \n",
       "\n",
       "   6/14/21  6/15/21  6/16/21  6/17/21  6/18/21  6/19/21  6/20/21  \n",
       "0    91458    93272    93288    96531    98734    98734    98734  \n",
       "1   132461   132469   132476   132481   132484   132488   132490  \n",
       "2   133742   134115   134458   134840   135219   135586   135821  \n",
       "3    13826    13828    13836    13839    13842    13842    13842  \n",
       "4    36790    36921    37094    37289    37467    37604    37678  \n",
       "\n",
       "[5 rows x 520 columns]"
      ]
     },
     "execution_count": 2,
     "metadata": {},
     "output_type": "execute_result"
    }
   ],
   "source": [
    "confirm_df = pd.read_csv('time_series_covid19_confirmed_global.csv')\n",
    "death_df = pd.read_csv('time_series_covid19_deaths_global.csv')\n",
    "recover_df = pd.read_csv('time_series_covid19_recovered_global.csv')\n",
    "confirm_df.head()"
   ]
  },
  {
   "cell_type": "markdown",
   "id": "271737b6",
   "metadata": {},
   "source": [
    "## Tiền xử lý\n",
    "Gom các cột ngày tháng vào 1 cột có tên là Date, tạo ra 1 bảng duy nhất thể hiện tổng số ca mắc, hồi phục và tử vong của các nước theo ngày"
   ]
  },
  {
   "cell_type": "code",
   "execution_count": 3,
   "id": "b3578000",
   "metadata": {},
   "outputs": [],
   "source": [
    "dates = confirm_df.iloc[:,4:]\n",
    "#Không lấy các cột lat và long vì chúng ta không có dự định biểu thị vị trí trên bản đồ thế giới\n",
    "confirm_df_melt = confirm_df.melt(id_vars=['Province/State', 'Country/Region'], value_vars=dates, var_name='Date', value_name='Confirmed')\n",
    "death_df_melt = death_df.melt(id_vars=['Province/State', 'Country/Region'], value_vars=dates, var_name='Date', value_name='Deaths')\n",
    "recover_df_melt = recover_df.melt(id_vars=['Province/State', 'Country/Region'], value_vars=dates, var_name='Date', value_name='Recovered')"
   ]
  },
  {
   "cell_type": "code",
   "execution_count": 4,
   "id": "03b31316",
   "metadata": {},
   "outputs": [
    {
     "data": {
      "text/html": [
       "<div>\n",
       "<style scoped>\n",
       "    .dataframe tbody tr th:only-of-type {\n",
       "        vertical-align: middle;\n",
       "    }\n",
       "\n",
       "    .dataframe tbody tr th {\n",
       "        vertical-align: top;\n",
       "    }\n",
       "\n",
       "    .dataframe thead th {\n",
       "        text-align: right;\n",
       "    }\n",
       "</style>\n",
       "<table border=\"1\" class=\"dataframe\">\n",
       "  <thead>\n",
       "    <tr style=\"text-align: right;\">\n",
       "      <th></th>\n",
       "      <th>Province/State</th>\n",
       "      <th>Country/Region</th>\n",
       "      <th>Date</th>\n",
       "      <th>Confirmed</th>\n",
       "      <th>Deaths</th>\n",
       "      <th>Recovered</th>\n",
       "    </tr>\n",
       "  </thead>\n",
       "  <tbody>\n",
       "    <tr>\n",
       "      <th>0</th>\n",
       "      <td>NaN</td>\n",
       "      <td>Afghanistan</td>\n",
       "      <td>1/22/20</td>\n",
       "      <td>0</td>\n",
       "      <td>0</td>\n",
       "      <td>0.0</td>\n",
       "    </tr>\n",
       "    <tr>\n",
       "      <th>1</th>\n",
       "      <td>NaN</td>\n",
       "      <td>Albania</td>\n",
       "      <td>1/22/20</td>\n",
       "      <td>0</td>\n",
       "      <td>0</td>\n",
       "      <td>0.0</td>\n",
       "    </tr>\n",
       "    <tr>\n",
       "      <th>2</th>\n",
       "      <td>NaN</td>\n",
       "      <td>Algeria</td>\n",
       "      <td>1/22/20</td>\n",
       "      <td>0</td>\n",
       "      <td>0</td>\n",
       "      <td>0.0</td>\n",
       "    </tr>\n",
       "    <tr>\n",
       "      <th>3</th>\n",
       "      <td>NaN</td>\n",
       "      <td>Andorra</td>\n",
       "      <td>1/22/20</td>\n",
       "      <td>0</td>\n",
       "      <td>0</td>\n",
       "      <td>0.0</td>\n",
       "    </tr>\n",
       "    <tr>\n",
       "      <th>4</th>\n",
       "      <td>NaN</td>\n",
       "      <td>Angola</td>\n",
       "      <td>1/22/20</td>\n",
       "      <td>0</td>\n",
       "      <td>0</td>\n",
       "      <td>0.0</td>\n",
       "    </tr>\n",
       "  </tbody>\n",
       "</table>\n",
       "</div>"
      ],
      "text/plain": [
       "  Province/State Country/Region     Date  Confirmed  Deaths  Recovered\n",
       "0            NaN    Afghanistan  1/22/20          0       0        0.0\n",
       "1            NaN        Albania  1/22/20          0       0        0.0\n",
       "2            NaN        Algeria  1/22/20          0       0        0.0\n",
       "3            NaN        Andorra  1/22/20          0       0        0.0\n",
       "4            NaN         Angola  1/22/20          0       0        0.0"
      ]
     },
     "execution_count": 4,
     "metadata": {},
     "output_type": "execute_result"
    }
   ],
   "source": [
    "#Ghép các giá trị số ca đã xác nhận, số ca tử vong và số ca hồi phục vào dataframe\n",
    "covid19_df = pd.merge(left=confirm_df_melt, right=death_df_melt, how='left', on=['Province/State', 'Country/Region', 'Date'])\n",
    "covid19_df = pd.merge(left=covid19_df, right=recover_df_melt, how='left', on=['Province/State', 'Country/Region', 'Date'])\n",
    "covid19_df.head()"
   ]
  },
  {
   "cell_type": "markdown",
   "id": "3ddf0ee0",
   "metadata": {},
   "source": [
    "# 2.Khám phá dữ liệu"
   ]
  },
  {
   "cell_type": "code",
   "execution_count": 5,
   "id": "becbacbf",
   "metadata": {},
   "outputs": [
    {
     "data": {
      "text/plain": [
       "(143448, 6)"
      ]
     },
     "execution_count": 5,
     "metadata": {},
     "output_type": "execute_result"
    }
   ],
   "source": [
    "covid19_df.shape"
   ]
  },
  {
   "cell_type": "code",
   "execution_count": 6,
   "id": "4d66a3c4",
   "metadata": {},
   "outputs": [
    {
     "data": {
      "text/plain": [
       "False"
      ]
     },
     "execution_count": 6,
     "metadata": {},
     "output_type": "execute_result"
    }
   ],
   "source": [
    "have_duplicated_rows = covid19_df.duplicated().any()\n",
    "have_duplicated_rows"
   ]
  },
  {
   "cell_type": "markdown",
   "id": "1f6814a0",
   "metadata": {},
   "source": [
    "## Số dòng, cột, ý nghĩa của từng dòng và kiểm tra việc lặp\n",
    "<br>\n",
    "Dữ liêu có 142336 dòng và 6 cột. Mỗi dòng biểu thị số ca mắc, số ca tử vong và số ca hồi phục tổng đã được xác nhận tại thời điểm thu thập dữ liệu tại Quốc gia (+ Địa điểm) đó\n",
    "<br>\n",
    "Dữ liệu mỗi dòng đều có ý nghĩa giống nhau và không dòng nào bị lặp"
   ]
  },
  {
   "cell_type": "markdown",
   "id": "9d709e1c",
   "metadata": {},
   "source": [
    "## Chú thích dữ liệu (Ý nghĩa của từng cột)\n",
    "__Province_State__: Tên tiểu bang, địa danh,...\n",
    "<br>\n",
    "__Country_Region__: Tên quốc gia\n",
    "<br>\n",
    "__Date__: Thời gian thu thập dữ liệu\n",
    "<br>\n",
    "__Confirmed__: Số ca mắc bệnh đã xác nhận\n",
    "<br>\n",
    "__Deaths__: Số ca tử vong đã được xác nhận\n",
    "<br>\n",
    "__Recovered__: Số ca hồi phục đã được xác nhận"
   ]
  },
  {
   "cell_type": "code",
   "execution_count": 7,
   "id": "aec9d636",
   "metadata": {},
   "outputs": [
    {
     "data": {
      "text/plain": [
       "Province/State     object\n",
       "Country/Region     object\n",
       "Date               object\n",
       "Confirmed           int64\n",
       "Deaths              int64\n",
       "Recovered         float64\n",
       "dtype: object"
      ]
     },
     "execution_count": 7,
     "metadata": {},
     "output_type": "execute_result"
    }
   ],
   "source": [
    "covid19_df.dtypes"
   ]
  },
  {
   "cell_type": "markdown",
   "id": "19836969",
   "metadata": {},
   "source": [
    "## Kiểu dữ liệu\n",
    "Cột __Province_State__, __Country_Region__, __Date__ có kiểu dữ liệu object cần xử lý tiếp tục\n",
    "<br>\n",
    "Cột __Confirmed__, __Deaths__, __Recovered__ có kiểu dữ liệu numeric. Để đồng hộ hoá thì chúng ta sẽ chuyển kiểu dữ liệu của __Recovered__ từ float64 về int64 như 2 cái trước."
   ]
  },
  {
   "cell_type": "code",
   "execution_count": 8,
   "id": "face599d",
   "metadata": {},
   "outputs": [
    {
     "name": "stdout",
     "output_type": "stream",
     "text": [
      "{<class 'str'>, <class 'float'>}\n",
      "{<class 'str'>}\n",
      "{<class 'str'>}\n"
     ]
    }
   ],
   "source": [
    "def open_object_dtype(s):\n",
    "    dtypes = set(s.apply(lambda x: type(x)).unique())\n",
    "    return dtypes\n",
    "print(open_object_dtype(covid19_df['Province/State']))\n",
    "print(open_object_dtype(covid19_df['Country/Region']))\n",
    "print(open_object_dtype(covid19_df['Date']))"
   ]
  },
  {
   "cell_type": "code",
   "execution_count": 9,
   "id": "a90554ad",
   "metadata": {
    "scrolled": true
   },
   "outputs": [
    {
     "data": {
      "text/plain": [
       "array([nan, 'Australian Capital Territory', 'New South Wales',\n",
       "       'Northern Territory', 'Queensland', 'South Australia', 'Tasmania',\n",
       "       'Victoria', 'Western Australia', 'Alberta', 'British Columbia',\n",
       "       'Diamond Princess', 'Grand Princess', 'Manitoba', 'New Brunswick',\n",
       "       'Newfoundland and Labrador', 'Northwest Territories',\n",
       "       'Nova Scotia', 'Nunavut', 'Ontario', 'Prince Edward Island',\n",
       "       'Quebec', 'Repatriated Travellers', 'Saskatchewan', 'Yukon',\n",
       "       'Anhui', 'Beijing', 'Chongqing', 'Fujian', 'Gansu', 'Guangdong',\n",
       "       'Guangxi', 'Guizhou', 'Hainan', 'Hebei', 'Heilongjiang', 'Henan',\n",
       "       'Hong Kong', 'Hubei', 'Hunan', 'Inner Mongolia', 'Jiangsu',\n",
       "       'Jiangxi', 'Jilin', 'Liaoning', 'Macau', 'Ningxia', 'Qinghai',\n",
       "       'Shaanxi', 'Shandong', 'Shanghai', 'Shanxi', 'Sichuan', 'Tianjin',\n",
       "       'Tibet', 'Unknown', 'Xinjiang', 'Yunnan', 'Zhejiang',\n",
       "       'Faroe Islands', 'Greenland', 'French Guiana', 'French Polynesia',\n",
       "       'Guadeloupe', 'Martinique', 'Mayotte', 'New Caledonia', 'Reunion',\n",
       "       'Saint Barthelemy', 'Saint Pierre and Miquelon', 'St Martin',\n",
       "       'Wallis and Futuna', 'Aruba', 'Bonaire, Sint Eustatius and Saba',\n",
       "       'Curacao', 'Sint Maarten', 'Cook Islands', 'Anguilla', 'Bermuda',\n",
       "       'British Virgin Islands', 'Cayman Islands', 'Channel Islands',\n",
       "       'Falkland Islands (Malvinas)', 'Gibraltar', 'Isle of Man',\n",
       "       'Montserrat', 'Saint Helena, Ascension and Tristan da Cunha',\n",
       "       'Turks and Caicos Islands'], dtype=object)"
      ]
     },
     "execution_count": 9,
     "metadata": {},
     "output_type": "execute_result"
    }
   ],
   "source": [
    "covid19_df['Province/State'].unique()"
   ]
  },
  {
   "cell_type": "code",
   "execution_count": 10,
   "id": "4b1ffd3f",
   "metadata": {},
   "outputs": [],
   "source": [
    "covid19_df['Date'] = pd.to_datetime(covid19_df['Date'], format = '%m/%d/%y')\n",
    "covid19_df['Recovered'] = covid19_df['Recovered'].fillna(0)\n",
    "covid19_df['Recovered'] = covid19_df['Recovered'].astype('int64')\n",
    "covid19_df['Province/State'] = covid19_df[['Province/State','Country/Region']].replace(np.nan,'')"
   ]
  },
  {
   "cell_type": "code",
   "execution_count": 11,
   "id": "248d0ea6",
   "metadata": {},
   "outputs": [
    {
     "data": {
      "text/html": [
       "<div>\n",
       "<style scoped>\n",
       "    .dataframe tbody tr th:only-of-type {\n",
       "        vertical-align: middle;\n",
       "    }\n",
       "\n",
       "    .dataframe tbody tr th {\n",
       "        vertical-align: top;\n",
       "    }\n",
       "\n",
       "    .dataframe thead th {\n",
       "        text-align: right;\n",
       "    }\n",
       "</style>\n",
       "<table border=\"1\" class=\"dataframe\">\n",
       "  <thead>\n",
       "    <tr style=\"text-align: right;\">\n",
       "      <th></th>\n",
       "      <th>Date</th>\n",
       "      <th>Confirmed</th>\n",
       "      <th>Deaths</th>\n",
       "      <th>Recovered</th>\n",
       "    </tr>\n",
       "  </thead>\n",
       "  <tbody>\n",
       "    <tr>\n",
       "      <th>missing_ratio</th>\n",
       "      <td>0.0</td>\n",
       "      <td>0.0</td>\n",
       "      <td>0.0</td>\n",
       "      <td>0.0</td>\n",
       "    </tr>\n",
       "    <tr>\n",
       "      <th>min</th>\n",
       "      <td>2020-01-22 00:00:00</td>\n",
       "      <td>0.0</td>\n",
       "      <td>0.0</td>\n",
       "      <td>0.0</td>\n",
       "    </tr>\n",
       "    <tr>\n",
       "      <th>max</th>\n",
       "      <td>2021-06-20 00:00:00</td>\n",
       "      <td>33541887.0</td>\n",
       "      <td>601824.0</td>\n",
       "      <td>28844199.0</td>\n",
       "    </tr>\n",
       "  </tbody>\n",
       "</table>\n",
       "</div>"
      ],
      "text/plain": [
       "                              Date   Confirmed    Deaths   Recovered\n",
       "missing_ratio                  0.0         0.0       0.0         0.0\n",
       "min            2020-01-22 00:00:00         0.0       0.0         0.0\n",
       "max            2021-06-20 00:00:00  33541887.0  601824.0  28844199.0"
      ]
     },
     "execution_count": 11,
     "metadata": {},
     "output_type": "execute_result"
    }
   ],
   "source": [
    "num_cols = ['Date','Confirmed','Deaths','Recovered']\n",
    "def missing_ratio(df):\n",
    "    return df.isna().mean() * 100\n",
    "nume_col_profiles_df = covid19_df[num_cols].agg([missing_ratio, 'min', 'max'])\n",
    "nume_col_profiles_df"
   ]
  },
  {
   "cell_type": "markdown",
   "id": "dc74557d",
   "metadata": {},
   "source": [
    "## Dữ liệu numeric\n",
    "<br>\n",
    "Dữ liệu không có giá trị thiếu\n",
    "<br>\n",
    "Dữ liệu không có giá trị bất thường về ngày đầu tiên và ngày cuối cùng thu thập dữ liệu, số ca mắc, tử vong, hồi phục cao nhất tính tới ngày 20/6/2021"
   ]
  },
  {
   "cell_type": "code",
   "execution_count": 12,
   "id": "64806033",
   "metadata": {},
   "outputs": [
    {
     "data": {
      "text/html": [
       "<div>\n",
       "<style scoped>\n",
       "    .dataframe tbody tr th:only-of-type {\n",
       "        vertical-align: middle;\n",
       "    }\n",
       "\n",
       "    .dataframe tbody tr th {\n",
       "        vertical-align: top;\n",
       "    }\n",
       "\n",
       "    .dataframe thead th {\n",
       "        text-align: right;\n",
       "    }\n",
       "</style>\n",
       "<table border=\"1\" class=\"dataframe\">\n",
       "  <thead>\n",
       "    <tr style=\"text-align: right;\">\n",
       "      <th></th>\n",
       "      <th>Country/Region</th>\n",
       "      <th>Province/State</th>\n",
       "    </tr>\n",
       "  </thead>\n",
       "  <tbody>\n",
       "    <tr>\n",
       "      <th>missing_ratio</th>\n",
       "      <td>0.0</td>\n",
       "      <td>0.0</td>\n",
       "    </tr>\n",
       "    <tr>\n",
       "      <th>num_diff_vals</th>\n",
       "      <td>194</td>\n",
       "      <td>88</td>\n",
       "    </tr>\n",
       "    <tr>\n",
       "      <th>diff_vals</th>\n",
       "      <td>[Afghanistan, Albania, Algeria, Andorra, Angol...</td>\n",
       "      <td>[, Australian Capital Territory, New South Wal...</td>\n",
       "    </tr>\n",
       "  </tbody>\n",
       "</table>\n",
       "</div>"
      ],
      "text/plain": [
       "                                                  Country/Region  \\\n",
       "missing_ratio                                                0.0   \n",
       "num_diff_vals                                                194   \n",
       "diff_vals      [Afghanistan, Albania, Algeria, Andorra, Angol...   \n",
       "\n",
       "                                                  Province/State  \n",
       "missing_ratio                                                0.0  \n",
       "num_diff_vals                                                 88  \n",
       "diff_vals      [, Australian Capital Territory, New South Wal...  "
      ]
     },
     "execution_count": 12,
     "metadata": {},
     "output_type": "execute_result"
    }
   ],
   "source": [
    "cat_cols = list(set(covid19_df.columns) - set(num_cols))\n",
    "def missing_ratio(df):\n",
    "    return df.isna().mean() * 100\n",
    "def num_diff_vals(df):\n",
    "    return df.nunique()\n",
    "def diff_vals(df):\n",
    "    return df.unique()\n",
    "cate_col_profiles_df = covid19_df[cat_cols].agg([missing_ratio, num_diff_vals, diff_vals])\n",
    "cate_col_profiles_df"
   ]
  },
  {
   "cell_type": "markdown",
   "id": "d71891b1",
   "metadata": {},
   "source": [
    "## Dữ liệu categorical\n",
    "Dữ liệu không có giá trị thiếu\n",
    "<br>\n",
    "Dữ liệu có ít quốc gia trên thế giới hơn so với thực tế (194 quốc gia so với 204 quốc gia đã được xác nhận) ngoài ra không còn gì bất thường"
   ]
  },
  {
   "cell_type": "markdown",
   "id": "bf74c2d8",
   "metadata": {},
   "source": [
    "# 3. Trả lời câu hỏi"
   ]
  },
  {
   "cell_type": "markdown",
   "id": "cbef6d42",
   "metadata": {},
   "source": [
    "## Câu hỏi\n",
    "1. Những nước nào có tỉ lệ số người tử vong trên số người hồi phục thấp để chúng ta có thể học tập các biện pháp y tế của họ đồng thời những nước nào có tỉ lệ cao để chúng ta có thể rút kinh nghiệm từ những khó khăn của họ.\n",
    "<br><br>\n",
    "2. Trong vòng 1 tuần, 1 tháng qua, nước nào có số người nhiễm mới thấp so với thế giới. Từ đó chúng ta có thể học hỏi về cách phòng bệnh và mở cửa giao thương. Đồng thời chúng ta sẽ tìm những nước có người nhiễm cao để rút kinh nghiệm từ những khó khăn của họ và cảnh báo cho người dân không chủ quan.\n",
    "<br><br>\n",
    "3. Kiểm tra và thống kê dữ liệu của Việt Nam để chúng ta hiểu rõ hơn tình hình của chúng ta hiện tại để biết khả năng phòng chống và sự phức tạp của dịch bệnh này ở nước ta như thế nào. (Các tỉ lệ so với thế giới, so với trước đó, tốc độ gia tăng,...)"
   ]
  },
  {
   "cell_type": "markdown",
   "id": "87225193",
   "metadata": {},
   "source": [
    "## Tiền xử lý\n",
    "Để tính số người tử vong trên số người hồi phục, chúng ta phải lấy số ca nhiễm, số ca tử vong và số ca hồi phục mới nhất để tính. Vì vậy chúng ta sẽ tạo 1 dataframe ứng với mỗi quốc gia sẽ là số ca nhiễm, ca hồi phục và ca tử vong mới nhất"
   ]
  },
  {
   "cell_type": "code",
   "execution_count": 13,
   "id": "44b9a6d2",
   "metadata": {},
   "outputs": [
    {
     "data": {
      "text/html": [
       "<div>\n",
       "<style scoped>\n",
       "    .dataframe tbody tr th:only-of-type {\n",
       "        vertical-align: middle;\n",
       "    }\n",
       "\n",
       "    .dataframe tbody tr th {\n",
       "        vertical-align: top;\n",
       "    }\n",
       "\n",
       "    .dataframe thead th {\n",
       "        text-align: right;\n",
       "    }\n",
       "</style>\n",
       "<table border=\"1\" class=\"dataframe\">\n",
       "  <thead>\n",
       "    <tr style=\"text-align: right;\">\n",
       "      <th></th>\n",
       "      <th>Province/State</th>\n",
       "      <th>Country/Region</th>\n",
       "      <th>Confirmed</th>\n",
       "      <th>Deaths</th>\n",
       "      <th>Recovered</th>\n",
       "    </tr>\n",
       "  </thead>\n",
       "  <tbody>\n",
       "    <tr>\n",
       "      <th>0</th>\n",
       "      <td></td>\n",
       "      <td>Afghanistan</td>\n",
       "      <td>98734</td>\n",
       "      <td>3934</td>\n",
       "      <td>64401</td>\n",
       "    </tr>\n",
       "    <tr>\n",
       "      <th>1</th>\n",
       "      <td></td>\n",
       "      <td>Albania</td>\n",
       "      <td>132490</td>\n",
       "      <td>2454</td>\n",
       "      <td>129918</td>\n",
       "    </tr>\n",
       "    <tr>\n",
       "      <th>2</th>\n",
       "      <td></td>\n",
       "      <td>Algeria</td>\n",
       "      <td>135821</td>\n",
       "      <td>3631</td>\n",
       "      <td>94571</td>\n",
       "    </tr>\n",
       "    <tr>\n",
       "      <th>3</th>\n",
       "      <td></td>\n",
       "      <td>Andorra</td>\n",
       "      <td>13842</td>\n",
       "      <td>127</td>\n",
       "      <td>13650</td>\n",
       "    </tr>\n",
       "    <tr>\n",
       "      <th>4</th>\n",
       "      <td></td>\n",
       "      <td>Angola</td>\n",
       "      <td>37678</td>\n",
       "      <td>859</td>\n",
       "      <td>31676</td>\n",
       "    </tr>\n",
       "    <tr>\n",
       "      <th>...</th>\n",
       "      <td>...</td>\n",
       "      <td>...</td>\n",
       "      <td>...</td>\n",
       "      <td>...</td>\n",
       "      <td>...</td>\n",
       "    </tr>\n",
       "    <tr>\n",
       "      <th>273</th>\n",
       "      <td></td>\n",
       "      <td>Vietnam</td>\n",
       "      <td>13258</td>\n",
       "      <td>66</td>\n",
       "      <td>5229</td>\n",
       "    </tr>\n",
       "    <tr>\n",
       "      <th>274</th>\n",
       "      <td></td>\n",
       "      <td>West Bank and Gaza</td>\n",
       "      <td>312673</td>\n",
       "      <td>3551</td>\n",
       "      <td>306240</td>\n",
       "    </tr>\n",
       "    <tr>\n",
       "      <th>275</th>\n",
       "      <td></td>\n",
       "      <td>Yemen</td>\n",
       "      <td>6885</td>\n",
       "      <td>1355</td>\n",
       "      <td>3953</td>\n",
       "    </tr>\n",
       "    <tr>\n",
       "      <th>276</th>\n",
       "      <td></td>\n",
       "      <td>Zambia</td>\n",
       "      <td>129033</td>\n",
       "      <td>1644</td>\n",
       "      <td>108960</td>\n",
       "    </tr>\n",
       "    <tr>\n",
       "      <th>277</th>\n",
       "      <td></td>\n",
       "      <td>Zimbabwe</td>\n",
       "      <td>41779</td>\n",
       "      <td>1672</td>\n",
       "      <td>37184</td>\n",
       "    </tr>\n",
       "  </tbody>\n",
       "</table>\n",
       "<p>278 rows × 5 columns</p>\n",
       "</div>"
      ],
      "text/plain": [
       "    Province/State      Country/Region  Confirmed  Deaths  Recovered\n",
       "0                          Afghanistan      98734    3934      64401\n",
       "1                              Albania     132490    2454     129918\n",
       "2                              Algeria     135821    3631      94571\n",
       "3                              Andorra      13842     127      13650\n",
       "4                               Angola      37678     859      31676\n",
       "..             ...                 ...        ...     ...        ...\n",
       "273                            Vietnam      13258      66       5229\n",
       "274                 West Bank and Gaza     312673    3551     306240\n",
       "275                              Yemen       6885    1355       3953\n",
       "276                             Zambia     129033    1644     108960\n",
       "277                           Zimbabwe      41779    1672      37184\n",
       "\n",
       "[278 rows x 5 columns]"
      ]
     },
     "execution_count": 13,
     "metadata": {},
     "output_type": "execute_result"
    }
   ],
   "source": [
    "country_df = covid19_df[covid19_df['Date']==max(covid19_df['Date'])].reset_index(drop=True).drop('Date', axis=1)\n",
    "country_df"
   ]
  },
  {
   "cell_type": "markdown",
   "id": "3572ccf3",
   "metadata": {},
   "source": [
    "Ta thấy có 278 dòng trong khi chúng ta đã khám phá chỉ có 194 quốc gia được thể hiện nên có thể các quốc gia đã bị trùng lặp do sự phân vùng lãnh thổ \"Province/State\". Chúng ta cần lấy số liệu của từng quốc gia nên chúng ta sẽ nhóm từng quốc gia lại."
   ]
  },
  {
   "cell_type": "code",
   "execution_count": 14,
   "id": "2ba4fd00",
   "metadata": {},
   "outputs": [
    {
     "data": {
      "text/html": [
       "<div>\n",
       "<style scoped>\n",
       "    .dataframe tbody tr th:only-of-type {\n",
       "        vertical-align: middle;\n",
       "    }\n",
       "\n",
       "    .dataframe tbody tr th {\n",
       "        vertical-align: top;\n",
       "    }\n",
       "\n",
       "    .dataframe thead th {\n",
       "        text-align: right;\n",
       "    }\n",
       "</style>\n",
       "<table border=\"1\" class=\"dataframe\">\n",
       "  <thead>\n",
       "    <tr style=\"text-align: right;\">\n",
       "      <th></th>\n",
       "      <th>Country/Region</th>\n",
       "      <th>Confirmed</th>\n",
       "      <th>Deaths</th>\n",
       "      <th>Recovered</th>\n",
       "    </tr>\n",
       "  </thead>\n",
       "  <tbody>\n",
       "    <tr>\n",
       "      <th>0</th>\n",
       "      <td>Afghanistan</td>\n",
       "      <td>98734</td>\n",
       "      <td>3934</td>\n",
       "      <td>64401</td>\n",
       "    </tr>\n",
       "    <tr>\n",
       "      <th>1</th>\n",
       "      <td>Albania</td>\n",
       "      <td>132490</td>\n",
       "      <td>2454</td>\n",
       "      <td>129918</td>\n",
       "    </tr>\n",
       "    <tr>\n",
       "      <th>2</th>\n",
       "      <td>Algeria</td>\n",
       "      <td>135821</td>\n",
       "      <td>3631</td>\n",
       "      <td>94571</td>\n",
       "    </tr>\n",
       "    <tr>\n",
       "      <th>3</th>\n",
       "      <td>Andorra</td>\n",
       "      <td>13842</td>\n",
       "      <td>127</td>\n",
       "      <td>13650</td>\n",
       "    </tr>\n",
       "    <tr>\n",
       "      <th>4</th>\n",
       "      <td>Angola</td>\n",
       "      <td>37678</td>\n",
       "      <td>859</td>\n",
       "      <td>31676</td>\n",
       "    </tr>\n",
       "    <tr>\n",
       "      <th>...</th>\n",
       "      <td>...</td>\n",
       "      <td>...</td>\n",
       "      <td>...</td>\n",
       "      <td>...</td>\n",
       "    </tr>\n",
       "    <tr>\n",
       "      <th>189</th>\n",
       "      <td>Vietnam</td>\n",
       "      <td>13258</td>\n",
       "      <td>66</td>\n",
       "      <td>5229</td>\n",
       "    </tr>\n",
       "    <tr>\n",
       "      <th>190</th>\n",
       "      <td>West Bank and Gaza</td>\n",
       "      <td>312673</td>\n",
       "      <td>3551</td>\n",
       "      <td>306240</td>\n",
       "    </tr>\n",
       "    <tr>\n",
       "      <th>191</th>\n",
       "      <td>Yemen</td>\n",
       "      <td>6885</td>\n",
       "      <td>1355</td>\n",
       "      <td>3953</td>\n",
       "    </tr>\n",
       "    <tr>\n",
       "      <th>192</th>\n",
       "      <td>Zambia</td>\n",
       "      <td>129033</td>\n",
       "      <td>1644</td>\n",
       "      <td>108960</td>\n",
       "    </tr>\n",
       "    <tr>\n",
       "      <th>193</th>\n",
       "      <td>Zimbabwe</td>\n",
       "      <td>41779</td>\n",
       "      <td>1672</td>\n",
       "      <td>37184</td>\n",
       "    </tr>\n",
       "  </tbody>\n",
       "</table>\n",
       "<p>194 rows × 4 columns</p>\n",
       "</div>"
      ],
      "text/plain": [
       "         Country/Region  Confirmed  Deaths  Recovered\n",
       "0           Afghanistan      98734    3934      64401\n",
       "1               Albania     132490    2454     129918\n",
       "2               Algeria     135821    3631      94571\n",
       "3               Andorra      13842     127      13650\n",
       "4                Angola      37678     859      31676\n",
       "..                  ...        ...     ...        ...\n",
       "189             Vietnam      13258      66       5229\n",
       "190  West Bank and Gaza     312673    3551     306240\n",
       "191               Yemen       6885    1355       3953\n",
       "192              Zambia     129033    1644     108960\n",
       "193            Zimbabwe      41779    1672      37184\n",
       "\n",
       "[194 rows x 4 columns]"
      ]
     },
     "execution_count": 14,
     "metadata": {},
     "output_type": "execute_result"
    }
   ],
   "source": [
    "country_df = country_df.groupby('Country/Region')[['Confirmed', 'Deaths','Recovered']].sum().reset_index()\n",
    "country_df"
   ]
  },
  {
   "cell_type": "markdown",
   "id": "e9d8ab52",
   "metadata": {},
   "source": [
    "Dữ liệu đã chuẩn xác bây giờ chúng ta sẽ bắt đầu đến phần trả lời câu hỏi"
   ]
  },
  {
   "cell_type": "markdown",
   "id": "08614226",
   "metadata": {},
   "source": [
    "## Câu 1"
   ]
  },
  {
   "cell_type": "markdown",
   "id": "c24f0d67",
   "metadata": {},
   "source": [
    "## Câu 2"
   ]
  },
  {
   "cell_type": "markdown",
   "id": "86b34f2c",
   "metadata": {},
   "source": [
    "## Câu 3"
   ]
  },
  {
   "cell_type": "code",
   "execution_count": 15,
   "id": "c9a95af7",
   "metadata": {},
   "outputs": [],
   "source": [
    "vietnam_df = country_df[country_df['Country/Region'] == 'Vietnam'].drop('Country/Region', axis = 1)\n",
    "vietnam_df_date = covid19_df[covid19_df['Country/Region'] == 'Vietnam']\\\n",
    "                    .drop(['Country/Region','Province/State'], axis = 1).reset_index(drop=True)"
   ]
  },
  {
   "cell_type": "code",
   "execution_count": 16,
   "id": "1512619e",
   "metadata": {},
   "outputs": [],
   "source": [
    "#31 ngày gần đây\n",
    "tt_days = vietnam_df_date[-31:]\n",
    "tt_days.set_index('Date', inplace = True)\n",
    "#Toàn bộ lịch sử\n",
    "full_days = vietnam_df_date\n",
    "full_days.set_index('Date',inplace = True)"
   ]
  },
  {
   "cell_type": "code",
   "execution_count": 17,
   "id": "0372310e",
   "metadata": {},
   "outputs": [
    {
     "data": {
      "text/plain": [
       "Text(0.5, 1.0, 'Full days Confirmed')"
      ]
     },
     "execution_count": 17,
     "metadata": {},
     "output_type": "execute_result"
    },
    {
     "data": {
      "image/png": "[encoded data removed]",
      "text/plain": [
       "<Figure size 1080x1152 with 2 Axes>"
      ]
     },
     "metadata": {},
     "output_type": "display_data"
    }
   ],
   "source": [
    "#Sự gia tăng ca nhiễm gần đây\n",
    "s = tt_days['Confirmed']\n",
    "s1 = full_days['Confirmed']\n",
    "\n",
    "plt.style.use('seaborn')\n",
    "fig, axes = plt.subplots(2, 1,figsize=(15,16))\n",
    "axes[0].plot(s, marker = \"o\")\n",
    "axes[0].set_xlabel('Date')\n",
    "axes[0].set_ylabel('Case')\n",
    "axes[0].set_title('31 days Confirmed')\n",
    "axes[1].plot(s1, marker = \"o\")\n",
    "axes[1].set_xlabel('Date')\n",
    "axes[1].set_ylabel('Case')\n",
    "axes[1].set_title('Full days Confirmed')"
   ]
  },
  {
   "cell_type": "markdown",
   "id": "7d5c062a",
   "metadata": {},
   "source": [
    "Theo chúng ta đã thấy, 1 tháng qua số ca nhiễm tăng thêm liên tục 1 số lượng lớn và từ đầu tháng 5 dịch bùng phát dữ dội với số ca lây nhiễm gấp 3 lần so với trước đó. Đây là minh chứng cho sự chủ quan và khinh thường dịch bệnh của chúng ta."
   ]
  },
  {
   "cell_type": "code",
   "execution_count": 18,
   "id": "11ba7a47",
   "metadata": {},
   "outputs": [
    {
     "data": {
      "text/plain": [
       "Text(0.5, 1.0, 'Full days Deaths')"
      ]
     },
     "execution_count": 18,
     "metadata": {},
     "output_type": "execute_result"
    },
    {
     "data": {
      "image/png": "[encoded data removed]",
      "text/plain": [
       "<Figure size 1080x1152 with 2 Axes>"
      ]
     },
     "metadata": {},
     "output_type": "display_data"
    }
   ],
   "source": [
    "#Sự gia tăng ca tử vong\n",
    "s = tt_days['Deaths']\n",
    "s1 = full_days['Deaths']\n",
    "\n",
    "plt.style.use('seaborn')\n",
    "fig, axes = plt.subplots(2, 1,figsize=(15,16))\n",
    "axes[0].plot(s, marker = \"o\")\n",
    "axes[0].set_xlabel('Date')\n",
    "axes[0].set_ylabel('Case')\n",
    "axes[0].set_title('31 days Deaths')\n",
    "axes[1].plot(s1, marker = \"o\")\n",
    "axes[1].set_xlabel('Date')\n",
    "axes[1].set_ylabel('Case')\n",
    "axes[1].set_title('Full days Deaths')"
   ]
  },
  {
   "cell_type": "markdown",
   "id": "6b63079c",
   "metadata": {},
   "source": [
    "Kéo theo việc gia tăng số ca mắc thì số ca tử vong cũng đã tăng theo. Chúng ta khá may mắn khi đã giứ tỉ lệ tử vong khá thấp khi so sánh với những gì thấy được ở nước ngoài trên mạng. Còn để kiểm tra thật sự chúng cao hay thấp so với thế giới 1 cách chuẩn xác thì chúng ta sẽ tiếp tục tìm hiểu sau"
   ]
  },
  {
   "cell_type": "code",
   "execution_count": 19,
   "id": "cc8f43c3",
   "metadata": {},
   "outputs": [
    {
     "data": {
      "text/plain": [
       "Text(0.5, 1.0, 'Full days Recovered')"
      ]
     },
     "execution_count": 19,
     "metadata": {},
     "output_type": "execute_result"
    },
    {
     "data": {
      "image/png": "[encoded data removed]",
      "text/plain": [
       "<Figure size 1080x1152 with 2 Axes>"
      ]
     },
     "metadata": {},
     "output_type": "display_data"
    }
   ],
   "source": [
    "#Sự gia tăng ca hồi phục\n",
    "s = tt_days['Recovered']\n",
    "s1 = full_days['Recovered']\n",
    "\n",
    "plt.style.use('seaborn')\n",
    "fig, axes = plt.subplots(2, 1,figsize=(15,16))\n",
    "axes[0].plot(s, marker = \"o\")\n",
    "axes[0].set_xlabel('Date')\n",
    "axes[0].set_ylabel('Case')\n",
    "axes[0].set_title('31 days Recovered')\n",
    "axes[1].plot(s1, marker = \"o\")\n",
    "axes[1].set_xlabel('Date')\n",
    "axes[1].set_ylabel('Case')\n",
    "axes[1].set_title('Full days Recovered')"
   ]
  },
  {
   "cell_type": "markdown",
   "id": "fc1813d2",
   "metadata": {},
   "source": [
    "Đương nhiên với tỉ lệ tử vong thấp thì tỉ lệ hồi phục lại khá cao. Chúng ta cũng sẽ tìm hiểu tỉ lệ của chúng so với thế giới sau"
   ]
  },
  {
   "cell_type": "code",
   "execution_count": 20,
   "id": "1466392f",
   "metadata": {},
   "outputs": [],
   "source": [
    "#Số lượng ca nhiễm mới mỗi ngày trong 31 ngày qua\n",
    "tt_day_before =  vietnam_df_date[-32:-1]\n",
    "change_each_day = tt_days['Confirmed'].reset_index(drop = True) - tt_day_before['Confirmed'].reset_index(drop = True)\n",
    "num_change_each_day = pd.DataFrame({'Changed each day':change_each_day})\n",
    "num_change_each_day.set_index(tt_days.index, inplace = True)"
   ]
  },
  {
   "cell_type": "code",
   "execution_count": 21,
   "id": "e20626b1",
   "metadata": {},
   "outputs": [
    {
     "data": {
      "text/plain": [
       "Text(0.5, 1.0, '31 days Changed')"
      ]
     },
     "execution_count": 21,
     "metadata": {},
     "output_type": "execute_result"
    },
    {
     "data": {
      "image/png": "[encoded data removed]",
      "text/plain": [
       "<Figure size 1080x576 with 1 Axes>"
      ]
     },
     "metadata": {},
     "output_type": "display_data"
    }
   ],
   "source": [
    "plt.style.use('seaborn')\n",
    "fig, axes = plt.subplots(1, 1,figsize=(15,8))\n",
    "axes.plot(num_change_each_day, marker = \"o\")\n",
    "axes.set_xlabel('Date')\n",
    "axes.set_ylabel('Case')\n",
    "axes.set_title('31 days Changed')"
   ]
  },
  {
   "cell_type": "markdown",
   "id": "d63af07a",
   "metadata": {},
   "source": [
    "Số lượng ca nhiễm mỗi ngày đang ở mức khá cao với số lượng trung bình khoảng hơn 200 ca nhiễm 1 ngày"
   ]
  },
  {
   "cell_type": "code",
   "execution_count": 22,
   "id": "9773623a",
   "metadata": {},
   "outputs": [
    {
     "data": {
      "image/png": "[encoded data removed]",
      "text/plain": [
       "<Figure size 720x720 with 1 Axes>"
      ]
     },
     "metadata": {},
     "output_type": "display_data"
    }
   ],
   "source": [
    "#Tỉ lệ tử vong / hồi phục / còn lại của Việt Nam\n",
    "percent_chart = vietnam_df.copy()\n",
    "percent_chart['Active'] = percent_chart['Confirmed'] - percent_chart['Deaths'] - percent_chart['Recovered']\n",
    "percent_chart.drop('Confirmed', axis = 1, inplace  = True)\n",
    "labels = percent_chart.columns\n",
    "rates = (percent_chart.values/percent_chart.values.sum())*100\n",
    "rates = rates.reshape(-1)\n",
    "\n",
    "fig, axes = plt.subplots()\n",
    "plt.title('Tỉ lệ trường hợp nhiễm covid 19 tại Việt Nam')\n",
    "fig.set_figheight(10)\n",
    "fig.set_figwidth(10)\n",
    "axes.pie(rates, labels=labels, autopct='%0.2f%%', textprops={'fontsize': 15})\n",
    "plt.show()"
   ]
  },
  {
   "cell_type": "markdown",
   "id": "11085594",
   "metadata": {},
   "source": [
    "Theo như biểu đồ này, chúng ta có thể thấy được những ca chưa khỏi bệnh đang chiếm 1 số lượng lớn, gây áp lực cực lớn lên nền y tế nước nhà. Sở dĩ điều này xảy ra vì dịch bùng phát quá nhanh chóng. Nếu cứ gia tăng nhiều như thế này thì tỉ lệ người bệnh sẽ còn lên rất cao. Vì thế chúng ta cần thực hiện nghiêm túc những quy tắc phòng dịch để làm giảm áp lực lên nên y tế nước nhà."
   ]
  },
  {
   "cell_type": "code",
   "execution_count": 23,
   "id": "72c8ff48",
   "metadata": {},
   "outputs": [
    {
     "data": {
      "text/html": [
       "<div>\n",
       "<style scoped>\n",
       "    .dataframe tbody tr th:only-of-type {\n",
       "        vertical-align: middle;\n",
       "    }\n",
       "\n",
       "    .dataframe tbody tr th {\n",
       "        vertical-align: top;\n",
       "    }\n",
       "\n",
       "    .dataframe thead th {\n",
       "        text-align: right;\n",
       "    }\n",
       "</style>\n",
       "<table border=\"1\" class=\"dataframe\">\n",
       "  <thead>\n",
       "    <tr style=\"text-align: right;\">\n",
       "      <th></th>\n",
       "      <th>Country/Region</th>\n",
       "      <th>Confirmed</th>\n",
       "    </tr>\n",
       "  </thead>\n",
       "  <tbody>\n",
       "    <tr>\n",
       "      <th>144</th>\n",
       "      <td>Vietnam</td>\n",
       "      <td>13258</td>\n",
       "    </tr>\n",
       "  </tbody>\n",
       "</table>\n",
       "</div>"
      ],
      "text/plain": [
       "    Country/Region  Confirmed\n",
       "144        Vietnam      13258"
      ]
     },
     "execution_count": 23,
     "metadata": {},
     "output_type": "execute_result"
    }
   ],
   "source": [
    "#Xếp hạng ca mắc, tỉ lệ tử vong/hồi phục của VN so với thế giới\n",
    "compare_table = country_df[['Country/Region','Confirmed','Deaths','Recovered']]\n",
    "compare_confirmed = compare_table.sort_values('Confirmed', ascending = False)\n",
    "compare_confirmed.index = np.arange(1, len(compare_confirmed) + 1)\n",
    "compare_confirmed = compare_confirmed[compare_confirmed['Country/Region'] == 'Vietnam'] \\\n",
    "                        .drop(['Deaths','Recovered'], axis = 1)\n",
    "compare_confirmed"
   ]
  },
  {
   "cell_type": "markdown",
   "id": "f9df9a23",
   "metadata": {},
   "source": [
    "Số lượng ca mắc của chúng ta chỉ xếp hạng 144/194 quốc gia và vùng lãnh thổ được xét. Chúng có thể coi là khá thấp so với hiện tại nhưng chúng ta cần phải xét đến các yếu tố về kinh tế, khả năng y tế... nên không thể lấy chỉ số này mà chủ quan được."
   ]
  },
  {
   "cell_type": "code",
   "execution_count": 24,
   "id": "0df76727",
   "metadata": {},
   "outputs": [
    {
     "data": {
      "text/html": [
       "<div>\n",
       "<style scoped>\n",
       "    .dataframe tbody tr th:only-of-type {\n",
       "        vertical-align: middle;\n",
       "    }\n",
       "\n",
       "    .dataframe tbody tr th {\n",
       "        vertical-align: top;\n",
       "    }\n",
       "\n",
       "    .dataframe thead th {\n",
       "        text-align: right;\n",
       "    }\n",
       "</style>\n",
       "<table border=\"1\" class=\"dataframe\">\n",
       "  <thead>\n",
       "    <tr style=\"text-align: right;\">\n",
       "      <th></th>\n",
       "      <th>Country/Region</th>\n",
       "      <th>Deaths per Recovered</th>\n",
       "    </tr>\n",
       "  </thead>\n",
       "  <tbody>\n",
       "    <tr>\n",
       "      <th>140</th>\n",
       "      <td>Vietnam</td>\n",
       "      <td>1.262192</td>\n",
       "    </tr>\n",
       "  </tbody>\n",
       "</table>\n",
       "</div>"
      ],
      "text/plain": [
       "    Country/Region  Deaths per Recovered\n",
       "140        Vietnam              1.262192"
      ]
     },
     "execution_count": 24,
     "metadata": {},
     "output_type": "execute_result"
    }
   ],
   "source": [
    "compare_table['Deaths per Recovered'] = compare_table['Deaths'] / compare_table['Recovered'] * 100\n",
    "compare_percent_death = compare_table.sort_values('Deaths per Recovered', ascending = False)\n",
    "compare_percent_death.index = np.arange(1, len(compare_percent_death) + 1)\n",
    "compare_percent_death = compare_percent_death[compare_percent_death['Country/Region'] == 'Vietnam']\\\n",
    "                                                .drop(['Confirmed','Deaths','Recovered'], axis = 1)\n",
    "compare_percent_death"
   ]
  },
  {
   "cell_type": "markdown",
   "id": "f6b64ba4",
   "metadata": {},
   "source": [
    "Một điểm sáng trong tình hình dịch bệnh diễn biến khá phức tạp hiện nay là tình hình chữa bệnh của chúng ta khá tốt. Tỉ lệ người tử vong/ số người hồi phục chỉ đứng ở hạng 140/194 quốc gia và vùng lãnh thổ được xét. Vì vây khi biết mình bị nhiễm covid-19 tốt nhất không nên hoảng loạn, thành khẩn khai báo và tuân thủ các biện pháp cách ly, chữa bệnh."
   ]
  },
  {
   "cell_type": "code",
   "execution_count": 25,
   "id": "cb75c76e",
   "metadata": {},
   "outputs": [],
   "source": [
    "#Tỉ lệ số ca mắc mới trong 1 tuần (1 tháng)/ số ca nhiễm của VN so với thế giới\n",
    "last_week = covid19_df[covid19_df['Date']==max(covid19_df['Date'])-timedelta(days=7)] \\\n",
    "                .groupby('Country/Region')[['Confirmed', 'Deaths','Recovered']].sum().reset_index()\n",
    "last_month = covid19_df[covid19_df['Date']==max(covid19_df['Date'])-timedelta(days=31)] \\\n",
    "                .groupby('Country/Region')[['Confirmed', 'Deaths','Recovered']].sum().reset_index()\n",
    "last_month_1000 = last_month[last_month['Confirmed'] > 1000].reset_index(drop = True)\n",
    "country_df_1000 = country_df[country_df['Country/Region'].isin(last_month_1000['Country/Region'])].reset_index(drop = True)\n",
    "last_week_1000 = last_week[last_week['Country/Region'].isin(last_month_1000['Country/Region'])].reset_index(drop = True)"
   ]
  },
  {
   "cell_type": "code",
   "execution_count": 26,
   "id": "58ae7672",
   "metadata": {},
   "outputs": [
    {
     "data": {
      "text/html": [
       "<div>\n",
       "<style scoped>\n",
       "    .dataframe tbody tr th:only-of-type {\n",
       "        vertical-align: middle;\n",
       "    }\n",
       "\n",
       "    .dataframe tbody tr th {\n",
       "        vertical-align: top;\n",
       "    }\n",
       "\n",
       "    .dataframe thead th {\n",
       "        text-align: right;\n",
       "    }\n",
       "</style>\n",
       "<table border=\"1\" class=\"dataframe\">\n",
       "  <thead>\n",
       "    <tr style=\"text-align: right;\">\n",
       "      <th></th>\n",
       "      <th>Country/Region</th>\n",
       "      <th>1 week percent change</th>\n",
       "    </tr>\n",
       "  </thead>\n",
       "  <tbody>\n",
       "    <tr>\n",
       "      <th>1</th>\n",
       "      <td>Vietnam</td>\n",
       "      <td>24.722484</td>\n",
       "    </tr>\n",
       "  </tbody>\n",
       "</table>\n",
       "</div>"
      ],
      "text/plain": [
       "  Country/Region  1 week percent change\n",
       "1        Vietnam              24.722484"
      ]
     },
     "execution_count": 26,
     "metadata": {},
     "output_type": "execute_result"
    }
   ],
   "source": [
    "week_change_percent = (country_df_1000['Confirmed'] - last_week_1000['Confirmed']) / last_week_1000['Confirmed'] * 100\n",
    "percent_last_week = pd.DataFrame({'Country/Region':country_df_1000['Country/Region'], '1 week percent change':week_change_percent})\n",
    "percent_last_week = percent_last_week.sort_values('1 week percent change', ascending = False)\n",
    "percent_last_week.index = np.arange(1, len(percent_last_week) + 1)\n",
    "percent_last_week = percent_last_week[percent_last_week['Country/Region'] == 'Vietnam']\n",
    "percent_last_week"
   ]
  },
  {
   "cell_type": "markdown",
   "id": "82b72f5b",
   "metadata": {},
   "source": [
    "Trong vòng 1 tuần từ 13/6/2021 - 20/6/2021, nước ta đã tăng số ca nhiễm hơn 24% so với trước đó và đang đứng cao nhất thế giới về tỉ lệ gia tăng covid-19 so với trước đó (Chỉ xét các quốc gia và vùng lãnh thổ có hơn 1000 ca mắc từ tháng trước). Điều này thể hiện việc diễn biến dịch bệnh ở nước ta đang cực kỳ căng thẳng và mọi người phải đồng lòng để đẩy lùi dịch bệnh"
   ]
  },
  {
   "cell_type": "code",
   "execution_count": 27,
   "id": "f88bebb6",
   "metadata": {},
   "outputs": [
    {
     "data": {
      "text/html": [
       "<div>\n",
       "<style scoped>\n",
       "    .dataframe tbody tr th:only-of-type {\n",
       "        vertical-align: middle;\n",
       "    }\n",
       "\n",
       "    .dataframe tbody tr th {\n",
       "        vertical-align: top;\n",
       "    }\n",
       "\n",
       "    .dataframe thead th {\n",
       "        text-align: right;\n",
       "    }\n",
       "</style>\n",
       "<table border=\"1\" class=\"dataframe\">\n",
       "  <thead>\n",
       "    <tr style=\"text-align: right;\">\n",
       "      <th></th>\n",
       "      <th>Country/Region</th>\n",
       "      <th>1 month percent change</th>\n",
       "    </tr>\n",
       "  </thead>\n",
       "  <tbody>\n",
       "    <tr>\n",
       "      <th>2</th>\n",
       "      <td>Vietnam</td>\n",
       "      <td>175.691412</td>\n",
       "    </tr>\n",
       "  </tbody>\n",
       "</table>\n",
       "</div>"
      ],
      "text/plain": [
       "  Country/Region  1 month percent change\n",
       "2        Vietnam              175.691412"
      ]
     },
     "execution_count": 27,
     "metadata": {},
     "output_type": "execute_result"
    }
   ],
   "source": [
    "month_change_percent = (country_df_1000['Confirmed'] - last_month_1000['Confirmed']) / last_month_1000['Confirmed'] * 100\n",
    "percent_last_month = pd.DataFrame({'Country/Region':country_df_1000['Country/Region'], '1 month percent change':month_change_percent})\n",
    "percent_last_month = percent_last_month.sort_values('1 month percent change', ascending = False)\n",
    "percent_last_month.index = np.arange(1, len(percent_last_month) + 1)\n",
    "percent_last_month = percent_last_month[percent_last_month['Country/Region'] == 'Vietnam']\n",
    "percent_last_month"
   ]
  },
  {
   "cell_type": "markdown",
   "id": "240aa5cc",
   "metadata": {},
   "source": [
    "Và với việc trong 1 tháng từ 20/5/2021 đến 20/6/2021, nước ta đã gia tăng 175% số ca nhiễm so với trước đó và đứng thứ 2 thế giới (Chỉ xét các quốc gia và vùng lãnh thổ có hơn 1000 ca mắc từ tháng trước). Một tốc độ lây lan nhanh khủng khiếp chỉ đứng sau Đài Loan. Sau khi thấy 2 tỉ lệ này chúng ta đã hiểu vì sao nhà nước đang triển khai gắt gao việc tiêm vaccine và xét nghiệm diện rộng.\n",
    "<br>\n",
    "Chúng ta cần phải thực hiện đúng quy tắc 5K và tuân theo mọi chỉ thị của nhà nước để cùng nhau đẩy lùi dịch bệnh này."
   ]
  },
  {
   "cell_type": "code",
   "execution_count": 28,
   "id": "a11320cf",
   "metadata": {},
   "outputs": [
    {
     "data": {
      "text/html": [
       "<div>\n",
       "<style scoped>\n",
       "    .dataframe tbody tr th:only-of-type {\n",
       "        vertical-align: middle;\n",
       "    }\n",
       "\n",
       "    .dataframe tbody tr th {\n",
       "        vertical-align: top;\n",
       "    }\n",
       "\n",
       "    .dataframe thead th {\n",
       "        text-align: right;\n",
       "    }\n",
       "</style>\n",
       "<table border=\"1\" class=\"dataframe\">\n",
       "  <thead>\n",
       "    <tr style=\"text-align: right;\">\n",
       "      <th></th>\n",
       "      <th>Country/Region</th>\n",
       "      <th>1 week percent change</th>\n",
       "    </tr>\n",
       "  </thead>\n",
       "  <tbody>\n",
       "    <tr>\n",
       "      <th>67</th>\n",
       "      <td>Vietnam</td>\n",
       "      <td>0.001041</td>\n",
       "    </tr>\n",
       "  </tbody>\n",
       "</table>\n",
       "</div>"
      ],
      "text/plain": [
       "   Country/Region  1 week percent change\n",
       "67        Vietnam               0.001041"
      ]
     },
     "execution_count": 28,
     "metadata": {},
     "output_type": "execute_result"
    }
   ],
   "source": [
    "#Tỉ lệ lây lan của Việt Nam so với thế giới\n",
    "percent_change_world_week = (country_df['Confirmed'] - last_week['Confirmed']) / (country_df['Confirmed'] - last_week['Confirmed']).sum()\n",
    "percent_world_week = pd.DataFrame({'Country/Region':country_df['Country/Region'], '1 week percent change':percent_change_world_week})\n",
    "percent_world_week = percent_world_week.sort_values('1 week percent change', ascending = False)\n",
    "percent_world_week.index = np.arange(1, len(percent_world_week) + 1)\n",
    "percent_world_week = percent_world_week[percent_world_week['Country/Region'] == 'Vietnam']\n",
    "percent_world_week"
   ]
  },
  {
   "cell_type": "code",
   "execution_count": 29,
   "id": "cd778792",
   "metadata": {},
   "outputs": [
    {
     "data": {
      "text/html": [
       "<div>\n",
       "<style scoped>\n",
       "    .dataframe tbody tr th:only-of-type {\n",
       "        vertical-align: middle;\n",
       "    }\n",
       "\n",
       "    .dataframe tbody tr th {\n",
       "        vertical-align: top;\n",
       "    }\n",
       "\n",
       "    .dataframe thead th {\n",
       "        text-align: right;\n",
       "    }\n",
       "</style>\n",
       "<table border=\"1\" class=\"dataframe\">\n",
       "  <thead>\n",
       "    <tr style=\"text-align: right;\">\n",
       "      <th></th>\n",
       "      <th>Country/Region</th>\n",
       "      <th>1 month percent change</th>\n",
       "    </tr>\n",
       "  </thead>\n",
       "  <tbody>\n",
       "    <tr>\n",
       "      <th>81</th>\n",
       "      <td>Vietnam</td>\n",
       "      <td>0.000635</td>\n",
       "    </tr>\n",
       "  </tbody>\n",
       "</table>\n",
       "</div>"
      ],
      "text/plain": [
       "   Country/Region  1 month percent change\n",
       "81        Vietnam                0.000635"
      ]
     },
     "execution_count": 29,
     "metadata": {},
     "output_type": "execute_result"
    }
   ],
   "source": [
    "percent_change_world_month = (country_df['Confirmed'] - last_month['Confirmed']) / (country_df['Confirmed'] - last_month['Confirmed']).sum()\n",
    "percent_world_month = pd.DataFrame({'Country/Region':country_df['Country/Region'], '1 month percent change':percent_change_world_month})\n",
    "percent_world_month = percent_world_month.sort_values('1 month percent change', ascending = False)\n",
    "percent_world_month.index = np.arange(1, len(percent_world_month) + 1)\n",
    "percent_world_month = percent_world_month[percent_world_month['Country/Region'] == 'Vietnam']\n",
    "percent_world_month"
   ]
  },
  {
   "cell_type": "markdown",
   "id": "cf7682d8",
   "metadata": {},
   "source": [
    "Dù tỉ lệ lây lan trong nước so với trước đó rất nhanh nhưng mọi người cần chú ý nhưng không nên hoảng loạn vì tỉ lệ số người mắc mới ở VN vẫn còn rất thấp so với thế giới (Hạng 67 trong 1 tuần và Hạng 81 trong 1 tháng). \n",
    "<br>\n",
    "Sự khác biệt ở việc nước ta trước đó đã phòng chống dịch bệnh khá tốt nên khi mỗi ngày có hàng trăm ca bệnh như thế này chúng ta sẽ cảm tưởng nó rất nhiều.\n",
    "<br>\n",
    "Sở dĩ tôi nêu lên việc tỉ lệ gia tăng rất nhanh để chúng ta bớt chủ quan với dịch bệnh và đồng lòng đẩy lùi dịch bệnh chứ không muốn chúng ta có 1 sự hoang mang, sợ hãi gây rối loạn trong việc phòng chống dịch bệnh"
   ]
  },
  {
   "cell_type": "markdown",
   "id": "d265c25a",
   "metadata": {},
   "source": [
    "# 4.Nhìn lại quá trình làm đồ án"
   ]
  },
  {
   "cell_type": "markdown",
   "id": "27a3c693",
   "metadata": {},
   "source": [
    "Trần Quốc Long:\n",
    "<br><br>\n",
    "+Khó khăn:\n",
    "<br><br>\n",
    "Tìm chủ đề cho dữ liệu, xác minh xem nguồn dữ liệu có đáng tin cậy không, tìm hiểu kĩ về quy tắc và điều kiện để được sử dụng dữ liệu và liệu chủ đề đó có dễ để đặt câu hỏi và có câu trả lời hợp lý không.\n",
    "<br>\n",
    "Xử lý nguồn dữ liệu để tạo thành 1 bảng dữ liệu hoàn chỉnh để thuận tiện cho việc khám phá và trả lời câu hỏi.\n",
    "<br>\n",
    "Cách để mô hình hoá dữ liệu lên một cách hợp lý và trả lời sau khi khám phá để thể hiện việc khám phá như thế này thì trả lời được câu hỏi gì.\n",
    "<br>\n",
    "Chưa tiếp xúc với Github nhiều nên khó khăn trong việc sử dụng công cụ này.\n",
    "<br><br>\n",
    "+Kĩ năng học được:\n",
    "<br><br>\n",
    "Cách sử dụng Github để làm việc nhóm với người khác, sử dụng trello để lập thời gian biểu.\n",
    "<br>\n",
    "Kĩ năng phân chia công việc và phối hợp làm việc hợp lý với partner\n",
    "<br>\n",
    "Một số cách mô hình hoá bằng matplotlib, một số cách xử lý mới chưa sử dụng bao giờ như pandas melt."
   ]
  },
  {
   "cell_type": "markdown",
   "id": "0046d1af",
   "metadata": {},
   "source": [
    "Trần Đức Anh:\n",
    "<br><br>\n",
    "+Khó khăn:\n",
    "<br><br>\n",
    "Suy nghĩ câu hỏi hợp lý để có 1 câu trả lời có ý nghĩa dựa trên dữ liệu đã được thu thập\n",
    "<br>\n",
    "Cách sử dụng Github để làm việc nhóm vì chưa sử dụng nhiều\n",
    "<br>\n",
    "Cách sử dụng headline để trình bày bài báo cáo\n",
    "<br><br>\n",
    "+Kĩ năng học được\n",
    "<br><br>\n",
    "Cách làm việc nhóm, sử dụng Github và trello để làm việc nhóm\n",
    "<br>\n",
    "Kĩ năng phân chia công việc và phối hợp làm việc hợp lý với partner\n",
    "<br>\n",
    "Một số công cụ, chức năng để giúp trình bày bài báo cáo"
   ]
  },
  {
   "cell_type": "markdown",
   "id": "2e8692ad",
   "metadata": {},
   "source": [
    "Nhóm:\n",
    "<br>\n",
    "Chúng em thấy thời gian hiện tại đã ổn. Nếu có thêm thời gian thì có thể bọn em sẽ xem xét lại các câu hỏi và các câu trả lời cho hợp lý hơn vì nhiều khi ý tưởng bất ngờ nảy ra hay bỗng dưng phát hiện lỗi sai  ;-)."
   ]
  },
  {
   "cell_type": "markdown",
   "id": "b01e9f48",
   "metadata": {},
   "source": [
    "# 5.Tài liệu tham khảo"
   ]
  },
  {
   "cell_type": "markdown",
   "id": "8de9f1ea",
   "metadata": {},
   "source": [
    "Tài liệu pandas: https://pandas.pydata.org/docs/reference/index.html\n",
    "<br>\n",
    "Tài liệu về covid-19 của trường Đại học John Hopkins: https://github.com/CSSEGISandData/COVID-19\n",
    "<br>\n",
    "Tài liệu vẽ matplotlib: https://matplotlib.org/stable/api/index.html\n",
    "<br>\n",
    "Nguồn tham khảo 1 số vấn đề gặp phải khi làm đồ án: https://stackoverflow.com/"
   ]
  },
  {
   "cell_type": "markdown",
   "id": "fb199b02",
   "metadata": {},
   "source": [
    "Dong E, Du H, Gardner L. An interactive web-based dashboard to track COVID-19 in real time. Lancet Inf Dis. 20(5):533-534. doi: 10.1016/S1473-3099(20)30120-1"
   ]
  }
 ],
 "metadata": {
  "kernelspec": {
   "display_name": "Python 3",
   "language": "python",
   "name": "python3"
  },
  "language_info": {
   "codemirror_mode": {
    "name": "ipython",
    "version": 3
   },
   "file_extension": ".py",
   "mimetype": "text/x-python",
   "name": "python",
   "nbconvert_exporter": "python",
   "pygments_lexer": "ipython3",
   "version": "3.8.10"
  }
 },
 "nbformat": 4,
 "nbformat_minor": 5
}
