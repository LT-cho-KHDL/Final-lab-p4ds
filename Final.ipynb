{
 "cells": [
  {
   "cell_type": "code",
   "execution_count": 1,
   "id": "8c59b235",
   "metadata": {},
   "outputs": [],
   "source": [
    "import pandas as pd\n",
    "import numpy as np\n",
    "import seaborn as sns\n",
    "import matplotlib.pyplot as plt"
   ]
  },
  {
   "cell_type": "markdown",
   "id": "532584e6",
   "metadata": {},
   "source": [
    "# 1.Thu thập dữ liệu"
   ]
  },
  {
   "cell_type": "markdown",
   "id": "22089c15",
   "metadata": {},
   "source": [
    "## Dữ liệu sử dụng\n",
    "Thống kê dữ liệu theo từng ngày các trường hợp mắc bệnh, tử vong, hồi phục từ 22/1/2020 - 20/6/2021\n",
    "<br>\n",
    "Các dữ liệu đều được lấy từ kho dữ liệu COVID-19 của Trung tâm Khoa học và Kỹ thuật Hệ thống (CSSE) thuộc Đại học Johns Hopkins (USA)\n",
    "<br>\n",
    "Đường link lấy dữ liệu: https://github.com/CSSEGISandData/COVID-19\n",
    "<br>\n",
    "Điều kiện để được sử dụng dữ liệu: Trích dẫn 1 đoạn mà người public dữ liệu yêu cầu (Đã trích dẫn ở cuối bài làm)\n",
    "<br>\n",
    "Người ta thu thập dữ liệu bằng cách lấy thông tin từ 1 số lượng lớn các trang web. Đa số thì sẽ lấy thông tin từ từng Quốc Gia"
   ]
  },
  {
   "cell_type": "code",
   "execution_count": 2,
   "id": "62f240e0",
   "metadata": {},
   "outputs": [
    {
     "data": {
      "text/html": [
       "<div>\n",
       "<style scoped>\n",
       "    .dataframe tbody tr th:only-of-type {\n",
       "        vertical-align: middle;\n",
       "    }\n",
       "\n",
       "    .dataframe tbody tr th {\n",
       "        vertical-align: top;\n",
       "    }\n",
       "\n",
       "    .dataframe thead th {\n",
       "        text-align: right;\n",
       "    }\n",
       "</style>\n",
       "<table border=\"1\" class=\"dataframe\">\n",
       "  <thead>\n",
       "    <tr style=\"text-align: right;\">\n",
       "      <th></th>\n",
       "      <th>Province/State</th>\n",
       "      <th>Country/Region</th>\n",
       "      <th>Lat</th>\n",
       "      <th>Long</th>\n",
       "      <th>1/22/20</th>\n",
       "      <th>1/23/20</th>\n",
       "      <th>1/24/20</th>\n",
       "      <th>1/25/20</th>\n",
       "      <th>1/26/20</th>\n",
       "      <th>1/27/20</th>\n",
       "      <th>...</th>\n",
       "      <th>6/11/21</th>\n",
       "      <th>6/12/21</th>\n",
       "      <th>6/13/21</th>\n",
       "      <th>6/14/21</th>\n",
       "      <th>6/15/21</th>\n",
       "      <th>6/16/21</th>\n",
       "      <th>6/17/21</th>\n",
       "      <th>6/18/21</th>\n",
       "      <th>6/19/21</th>\n",
       "      <th>6/20/21</th>\n",
       "    </tr>\n",
       "  </thead>\n",
       "  <tbody>\n",
       "    <tr>\n",
       "      <th>0</th>\n",
       "      <td>NaN</td>\n",
       "      <td>Afghanistan</td>\n",
       "      <td>33.93911</td>\n",
       "      <td>67.709953</td>\n",
       "      <td>0</td>\n",
       "      <td>0</td>\n",
       "      <td>0</td>\n",
       "      <td>0</td>\n",
       "      <td>0</td>\n",
       "      <td>0</td>\n",
       "      <td>...</td>\n",
       "      <td>87716</td>\n",
       "      <td>88740</td>\n",
       "      <td>89861</td>\n",
       "      <td>91458</td>\n",
       "      <td>93272</td>\n",
       "      <td>93288</td>\n",
       "      <td>96531</td>\n",
       "      <td>98734</td>\n",
       "      <td>98734</td>\n",
       "      <td>98734</td>\n",
       "    </tr>\n",
       "    <tr>\n",
       "      <th>1</th>\n",
       "      <td>NaN</td>\n",
       "      <td>Albania</td>\n",
       "      <td>41.15330</td>\n",
       "      <td>20.168300</td>\n",
       "      <td>0</td>\n",
       "      <td>0</td>\n",
       "      <td>0</td>\n",
       "      <td>0</td>\n",
       "      <td>0</td>\n",
       "      <td>0</td>\n",
       "      <td>...</td>\n",
       "      <td>132437</td>\n",
       "      <td>132449</td>\n",
       "      <td>132459</td>\n",
       "      <td>132461</td>\n",
       "      <td>132469</td>\n",
       "      <td>132476</td>\n",
       "      <td>132481</td>\n",
       "      <td>132484</td>\n",
       "      <td>132488</td>\n",
       "      <td>132490</td>\n",
       "    </tr>\n",
       "    <tr>\n",
       "      <th>2</th>\n",
       "      <td>NaN</td>\n",
       "      <td>Algeria</td>\n",
       "      <td>28.03390</td>\n",
       "      <td>1.659600</td>\n",
       "      <td>0</td>\n",
       "      <td>0</td>\n",
       "      <td>0</td>\n",
       "      <td>0</td>\n",
       "      <td>0</td>\n",
       "      <td>0</td>\n",
       "      <td>...</td>\n",
       "      <td>132727</td>\n",
       "      <td>133070</td>\n",
       "      <td>133388</td>\n",
       "      <td>133742</td>\n",
       "      <td>134115</td>\n",
       "      <td>134458</td>\n",
       "      <td>134840</td>\n",
       "      <td>135219</td>\n",
       "      <td>135586</td>\n",
       "      <td>135821</td>\n",
       "    </tr>\n",
       "    <tr>\n",
       "      <th>3</th>\n",
       "      <td>NaN</td>\n",
       "      <td>Andorra</td>\n",
       "      <td>42.50630</td>\n",
       "      <td>1.521800</td>\n",
       "      <td>0</td>\n",
       "      <td>0</td>\n",
       "      <td>0</td>\n",
       "      <td>0</td>\n",
       "      <td>0</td>\n",
       "      <td>0</td>\n",
       "      <td>...</td>\n",
       "      <td>13813</td>\n",
       "      <td>13813</td>\n",
       "      <td>13813</td>\n",
       "      <td>13826</td>\n",
       "      <td>13828</td>\n",
       "      <td>13836</td>\n",
       "      <td>13839</td>\n",
       "      <td>13842</td>\n",
       "      <td>13842</td>\n",
       "      <td>13842</td>\n",
       "    </tr>\n",
       "    <tr>\n",
       "      <th>4</th>\n",
       "      <td>NaN</td>\n",
       "      <td>Angola</td>\n",
       "      <td>-11.20270</td>\n",
       "      <td>17.873900</td>\n",
       "      <td>0</td>\n",
       "      <td>0</td>\n",
       "      <td>0</td>\n",
       "      <td>0</td>\n",
       "      <td>0</td>\n",
       "      <td>0</td>\n",
       "      <td>...</td>\n",
       "      <td>36455</td>\n",
       "      <td>36600</td>\n",
       "      <td>36705</td>\n",
       "      <td>36790</td>\n",
       "      <td>36921</td>\n",
       "      <td>37094</td>\n",
       "      <td>37289</td>\n",
       "      <td>37467</td>\n",
       "      <td>37604</td>\n",
       "      <td>37678</td>\n",
       "    </tr>\n",
       "  </tbody>\n",
       "</table>\n",
       "<p>5 rows × 520 columns</p>\n",
       "</div>"
      ],
      "text/plain": [
       "  Province/State Country/Region       Lat       Long  1/22/20  1/23/20  \\\n",
       "0            NaN    Afghanistan  33.93911  67.709953        0        0   \n",
       "1            NaN        Albania  41.15330  20.168300        0        0   \n",
       "2            NaN        Algeria  28.03390   1.659600        0        0   \n",
       "3            NaN        Andorra  42.50630   1.521800        0        0   \n",
       "4            NaN         Angola -11.20270  17.873900        0        0   \n",
       "\n",
       "   1/24/20  1/25/20  1/26/20  1/27/20  ...  6/11/21  6/12/21  6/13/21  \\\n",
       "0        0        0        0        0  ...    87716    88740    89861   \n",
       "1        0        0        0        0  ...   132437   132449   132459   \n",
       "2        0        0        0        0  ...   132727   133070   133388   \n",
       "3        0        0        0        0  ...    13813    13813    13813   \n",
       "4        0        0        0        0  ...    36455    36600    36705   \n",
       "\n",
       "   6/14/21  6/15/21  6/16/21  6/17/21  6/18/21  6/19/21  6/20/21  \n",
       "0    91458    93272    93288    96531    98734    98734    98734  \n",
       "1   132461   132469   132476   132481   132484   132488   132490  \n",
       "2   133742   134115   134458   134840   135219   135586   135821  \n",
       "3    13826    13828    13836    13839    13842    13842    13842  \n",
       "4    36790    36921    37094    37289    37467    37604    37678  \n",
       "\n",
       "[5 rows x 520 columns]"
      ]
     },
     "execution_count": 2,
     "metadata": {},
     "output_type": "execute_result"
    }
   ],
   "source": [
    "confirm_df = pd.read_csv('time_series_covid19_confirmed_global.csv')\n",
    "death_df = pd.read_csv('time_series_covid19_deaths_global.csv')\n",
    "recover_df = pd.read_csv('time_series_covid19_recovered_global.csv')\n",
    "confirm_df.head()"
   ]
  },
  {
   "cell_type": "markdown",
   "id": "271737b6",
   "metadata": {},
   "source": [
    "## Tiền xử lý\n",
    "Gom các cột ngày tháng vào 1 cột có tên là Date, tạo ra 1 bảng duy nhất thể hiện tổng số ca mắc, hồi phục và tử vong của các nước theo ngày"
   ]
  },
  {
   "cell_type": "code",
   "execution_count": 3,
   "id": "b3578000",
   "metadata": {},
   "outputs": [],
   "source": [
    "dates = confirm_df.iloc[:,4:]\n",
    "#Không lấy các cột lat và long vì chúng ta không có dự định biểu thị vị trí trên bản đồ thế giới\n",
    "confirm_df_melt = confirm_df.melt(id_vars=['Province/State', 'Country/Region'], value_vars=dates, var_name='Date', value_name='Confirmed')\n",
    "death_df_melt = death_df.melt(id_vars=['Province/State', 'Country/Region'], value_vars=dates, var_name='Date', value_name='Deaths')\n",
    "recover_df_melt = recover_df.melt(id_vars=['Province/State', 'Country/Region'], value_vars=dates, var_name='Date', value_name='Recovered')"
   ]
  },
  {
   "cell_type": "code",
   "execution_count": 4,
   "id": "03b31316",
   "metadata": {},
   "outputs": [
    {
     "data": {
      "text/html": [
       "<div>\n",
       "<style scoped>\n",
       "    .dataframe tbody tr th:only-of-type {\n",
       "        vertical-align: middle;\n",
       "    }\n",
       "\n",
       "    .dataframe tbody tr th {\n",
       "        vertical-align: top;\n",
       "    }\n",
       "\n",
       "    .dataframe thead th {\n",
       "        text-align: right;\n",
       "    }\n",
       "</style>\n",
       "<table border=\"1\" class=\"dataframe\">\n",
       "  <thead>\n",
       "    <tr style=\"text-align: right;\">\n",
       "      <th></th>\n",
       "      <th>Province/State</th>\n",
       "      <th>Country/Region</th>\n",
       "      <th>Date</th>\n",
       "      <th>Confirmed</th>\n",
       "      <th>Deaths</th>\n",
       "      <th>Recovered</th>\n",
       "    </tr>\n",
       "  </thead>\n",
       "  <tbody>\n",
       "    <tr>\n",
       "      <th>0</th>\n",
       "      <td>NaN</td>\n",
       "      <td>Afghanistan</td>\n",
       "      <td>1/22/20</td>\n",
       "      <td>0</td>\n",
       "      <td>0</td>\n",
       "      <td>0.0</td>\n",
       "    </tr>\n",
       "    <tr>\n",
       "      <th>1</th>\n",
       "      <td>NaN</td>\n",
       "      <td>Albania</td>\n",
       "      <td>1/22/20</td>\n",
       "      <td>0</td>\n",
       "      <td>0</td>\n",
       "      <td>0.0</td>\n",
       "    </tr>\n",
       "    <tr>\n",
       "      <th>2</th>\n",
       "      <td>NaN</td>\n",
       "      <td>Algeria</td>\n",
       "      <td>1/22/20</td>\n",
       "      <td>0</td>\n",
       "      <td>0</td>\n",
       "      <td>0.0</td>\n",
       "    </tr>\n",
       "    <tr>\n",
       "      <th>3</th>\n",
       "      <td>NaN</td>\n",
       "      <td>Andorra</td>\n",
       "      <td>1/22/20</td>\n",
       "      <td>0</td>\n",
       "      <td>0</td>\n",
       "      <td>0.0</td>\n",
       "    </tr>\n",
       "    <tr>\n",
       "      <th>4</th>\n",
       "      <td>NaN</td>\n",
       "      <td>Angola</td>\n",
       "      <td>1/22/20</td>\n",
       "      <td>0</td>\n",
       "      <td>0</td>\n",
       "      <td>0.0</td>\n",
       "    </tr>\n",
       "  </tbody>\n",
       "</table>\n",
       "</div>"
      ],
      "text/plain": [
       "  Province/State Country/Region     Date  Confirmed  Deaths  Recovered\n",
       "0            NaN    Afghanistan  1/22/20          0       0        0.0\n",
       "1            NaN        Albania  1/22/20          0       0        0.0\n",
       "2            NaN        Algeria  1/22/20          0       0        0.0\n",
       "3            NaN        Andorra  1/22/20          0       0        0.0\n",
       "4            NaN         Angola  1/22/20          0       0        0.0"
      ]
     },
     "execution_count": 4,
     "metadata": {},
     "output_type": "execute_result"
    }
   ],
   "source": [
    "#Ghép các giá trị số ca đã xác nhận, số ca tử vong và số ca hồi phục vào dataframe\n",
    "covid19_df = pd.merge(left=confirm_df_melt, right=death_df_melt, how='left', on=['Province/State', 'Country/Region', 'Date'])\n",
    "covid19_df = pd.merge(left=covid19_df, right=recover_df_melt, how='left', on=['Province/State', 'Country/Region', 'Date'])\n",
    "covid19_df.head()"
   ]
  },
  {
   "cell_type": "markdown",
   "id": "3ddf0ee0",
   "metadata": {},
   "source": [
    "# 2.Khám phá dữ liệu"
   ]
  },
  {
   "cell_type": "code",
   "execution_count": 6,
   "id": "becbacbf",
   "metadata": {},
   "outputs": [
    {
     "data": {
      "text/plain": [
       "(143448, 6)"
      ]
     },
     "execution_count": 6,
     "metadata": {},
     "output_type": "execute_result"
    }
   ],
   "source": [
    "covid19_df.shape"
   ]
  },
  {
   "cell_type": "code",
   "execution_count": 7,
   "id": "4d66a3c4",
   "metadata": {},
   "outputs": [
    {
     "data": {
      "text/plain": [
       "False"
      ]
     },
     "execution_count": 7,
     "metadata": {},
     "output_type": "execute_result"
    }
   ],
   "source": [
    "have_duplicated_rows = covid19_df.duplicated().any()\n",
    "have_duplicated_rows"
   ]
  },
  {
   "cell_type": "markdown",
   "id": "1f6814a0",
   "metadata": {},
   "source": [
    "## Số dòng, cột, ý nghĩa của từng dòng và kiểm tra việc lặp\n",
    "<br>\n",
    "Dữ liêu có 142336 dòng và 6 cột. Mỗi dòng biểu thị số ca mắc, số ca tử vong và số ca hồi phục tổng đã được xác nhận tại thời điểm thu thập dữ liệu tại Quốc gia (+ Địa điểm) đó\n",
    "<br>\n",
    "Dữ liệu mỗi dòng đều có ý nghĩa giống nhau và không dòng nào bị lặp"
   ]
  },
  {
   "cell_type": "markdown",
   "id": "9d709e1c",
   "metadata": {},
   "source": [
    "## Chú thích dữ liệu (Ý nghĩa của từng cột)\n",
    "__Province_State__: Tên tiểu bang, địa danh,...\n",
    "<br>\n",
    "__Country_Region__: Tên quốc gia\n",
    "<br>\n",
    "__Date__: Thời gian thu thập dữ liệu\n",
    "<br>\n",
    "__Confirmed__: Số ca mắc bệnh đã xác nhận\n",
    "<br>\n",
    "__Deaths__: Số ca tử vong đã được xác nhận\n",
    "<br>\n",
    "__Recovered__: Số ca hồi phục đã được xác nhận"
   ]
  },
  {
   "cell_type": "code",
   "execution_count": 8,
   "id": "aec9d636",
   "metadata": {},
   "outputs": [
    {
     "data": {
      "text/plain": [
       "Province/State     object\n",
       "Country/Region     object\n",
       "Date               object\n",
       "Confirmed           int64\n",
       "Deaths              int64\n",
       "Recovered         float64\n",
       "dtype: object"
      ]
     },
     "execution_count": 8,
     "metadata": {},
     "output_type": "execute_result"
    }
   ],
   "source": [
    "covid19_df.dtypes"
   ]
  },
  {
   "cell_type": "markdown",
   "id": "19836969",
   "metadata": {},
   "source": [
    "## Kiểu dữ liệu\n",
    "Cột __Province_State__, __Country_Region__, __Date__ có kiểu dữ liệu object cần xử lý tiếp tục\n",
    "<br>\n",
    "Cột __Confirmed__, __Deaths__, __Recovered__ có kiểu dữ liệu numeric. Để đồng hộ hoá thì chúng ta sẽ chuyển kiểu dữ liệu của __Recovered__ từ float64 về int64 như 2 cái trước."
   ]
  },
  {
   "cell_type": "code",
   "execution_count": 10,
   "id": "face599d",
   "metadata": {},
   "outputs": [
    {
     "name": "stdout",
     "output_type": "stream",
     "text": [
      "{<class 'str'>, <class 'float'>}\n",
      "{<class 'str'>}\n",
      "{<class 'str'>}\n"
     ]
    }
   ],
   "source": [
    "def open_object_dtype(s):\n",
    "    dtypes = set(s.apply(lambda x: type(x)).unique())\n",
    "    return dtypes\n",
    "print(open_object_dtype(covid19_df['Province/State']))\n",
    "print(open_object_dtype(covid19_df['Country/Region']))\n",
    "print(open_object_dtype(covid19_df['Date']))"
   ]
  },
  {
   "cell_type": "code",
   "execution_count": 11,
   "id": "a90554ad",
   "metadata": {
    "scrolled": true
   },
   "outputs": [
    {
     "data": {
      "text/plain": [
       "array([nan, 'Australian Capital Territory', 'New South Wales',\n",
       "       'Northern Territory', 'Queensland', 'South Australia', 'Tasmania',\n",
       "       'Victoria', 'Western Australia', 'Alberta', 'British Columbia',\n",
       "       'Diamond Princess', 'Grand Princess', 'Manitoba', 'New Brunswick',\n",
       "       'Newfoundland and Labrador', 'Northwest Territories',\n",
       "       'Nova Scotia', 'Nunavut', 'Ontario', 'Prince Edward Island',\n",
       "       'Quebec', 'Repatriated Travellers', 'Saskatchewan', 'Yukon',\n",
       "       'Anhui', 'Beijing', 'Chongqing', 'Fujian', 'Gansu', 'Guangdong',\n",
       "       'Guangxi', 'Guizhou', 'Hainan', 'Hebei', 'Heilongjiang', 'Henan',\n",
       "       'Hong Kong', 'Hubei', 'Hunan', 'Inner Mongolia', 'Jiangsu',\n",
       "       'Jiangxi', 'Jilin', 'Liaoning', 'Macau', 'Ningxia', 'Qinghai',\n",
       "       'Shaanxi', 'Shandong', 'Shanghai', 'Shanxi', 'Sichuan', 'Tianjin',\n",
       "       'Tibet', 'Unknown', 'Xinjiang', 'Yunnan', 'Zhejiang',\n",
       "       'Faroe Islands', 'Greenland', 'French Guiana', 'French Polynesia',\n",
       "       'Guadeloupe', 'Martinique', 'Mayotte', 'New Caledonia', 'Reunion',\n",
       "       'Saint Barthelemy', 'Saint Pierre and Miquelon', 'St Martin',\n",
       "       'Wallis and Futuna', 'Aruba', 'Bonaire, Sint Eustatius and Saba',\n",
       "       'Curacao', 'Sint Maarten', 'Cook Islands', 'Anguilla', 'Bermuda',\n",
       "       'British Virgin Islands', 'Cayman Islands', 'Channel Islands',\n",
       "       'Falkland Islands (Malvinas)', 'Gibraltar', 'Isle of Man',\n",
       "       'Montserrat', 'Saint Helena, Ascension and Tristan da Cunha',\n",
       "       'Turks and Caicos Islands'], dtype=object)"
      ]
     },
     "execution_count": 11,
     "metadata": {},
     "output_type": "execute_result"
    }
   ],
   "source": [
    "covid19_df['Province/State'].unique()"
   ]
  },
  {
   "cell_type": "code",
   "execution_count": 12,
   "id": "4b1ffd3f",
   "metadata": {},
   "outputs": [],
   "source": [
    "covid19_df['Date'] = pd.to_datetime(covid19_df['Date'], format = '%m/%d/%y')\n",
    "covid19_df['Recovered'] = covid19_df['Recovered'].fillna(0)\n",
    "covid19_df['Recovered'] = covid19_df['Recovered'].astype('int64')\n",
    "covid19_df['Province/State'] = covid19_df[['Province/State','Country/Region']].replace(np.nan,'')"
   ]
  },
  {
   "cell_type": "code",
   "execution_count": 13,
   "id": "248d0ea6",
   "metadata": {},
   "outputs": [
    {
     "data": {
      "text/html": [
       "<div>\n",
       "<style scoped>\n",
       "    .dataframe tbody tr th:only-of-type {\n",
       "        vertical-align: middle;\n",
       "    }\n",
       "\n",
       "    .dataframe tbody tr th {\n",
       "        vertical-align: top;\n",
       "    }\n",
       "\n",
       "    .dataframe thead th {\n",
       "        text-align: right;\n",
       "    }\n",
       "</style>\n",
       "<table border=\"1\" class=\"dataframe\">\n",
       "  <thead>\n",
       "    <tr style=\"text-align: right;\">\n",
       "      <th></th>\n",
       "      <th>Date</th>\n",
       "      <th>Confirmed</th>\n",
       "      <th>Deaths</th>\n",
       "      <th>Recovered</th>\n",
       "    </tr>\n",
       "  </thead>\n",
       "  <tbody>\n",
       "    <tr>\n",
       "      <th>missing_ratio</th>\n",
       "      <td>0.0</td>\n",
       "      <td>0.0</td>\n",
       "      <td>0.0</td>\n",
       "      <td>0.0</td>\n",
       "    </tr>\n",
       "    <tr>\n",
       "      <th>min</th>\n",
       "      <td>2020-01-22 00:00:00</td>\n",
       "      <td>0.0</td>\n",
       "      <td>0.0</td>\n",
       "      <td>0.0</td>\n",
       "    </tr>\n",
       "    <tr>\n",
       "      <th>max</th>\n",
       "      <td>2021-06-20 00:00:00</td>\n",
       "      <td>33541887.0</td>\n",
       "      <td>601824.0</td>\n",
       "      <td>28844199.0</td>\n",
       "    </tr>\n",
       "  </tbody>\n",
       "</table>\n",
       "</div>"
      ],
      "text/plain": [
       "                              Date   Confirmed    Deaths   Recovered\n",
       "missing_ratio                  0.0         0.0       0.0         0.0\n",
       "min            2020-01-22 00:00:00         0.0       0.0         0.0\n",
       "max            2021-06-20 00:00:00  33541887.0  601824.0  28844199.0"
      ]
     },
     "execution_count": 13,
     "metadata": {},
     "output_type": "execute_result"
    }
   ],
   "source": [
    "num_cols = ['Date','Confirmed','Deaths','Recovered']\n",
    "def missing_ratio(df):\n",
    "    return df.isna().mean() * 100\n",
    "nume_col_profiles_df = covid19_df[num_cols].agg([missing_ratio, 'min', 'max'])\n",
    "nume_col_profiles_df"
   ]
  },
  {
   "cell_type": "markdown",
   "id": "dc74557d",
   "metadata": {},
   "source": [
    "## Dữ liệu numeric\n",
    "<br>\n",
    "Dữ liệu không có giá trị thiếu\n",
    "<br>\n",
    "Dữ liệu không có giá trị bất thường về ngày đầu tiên và ngày cuối cùng thu thập dữ liệu, số ca mắc, tử vong, hồi phục cao nhất tính tới ngày 20/6/2021"
   ]
  },
  {
   "cell_type": "code",
   "execution_count": 15,
   "id": "64806033",
   "metadata": {},
   "outputs": [
    {
     "data": {
      "text/html": [
       "<div>\n",
       "<style scoped>\n",
       "    .dataframe tbody tr th:only-of-type {\n",
       "        vertical-align: middle;\n",
       "    }\n",
       "\n",
       "    .dataframe tbody tr th {\n",
       "        vertical-align: top;\n",
       "    }\n",
       "\n",
       "    .dataframe thead th {\n",
       "        text-align: right;\n",
       "    }\n",
       "</style>\n",
       "<table border=\"1\" class=\"dataframe\">\n",
       "  <thead>\n",
       "    <tr style=\"text-align: right;\">\n",
       "      <th></th>\n",
       "      <th>Country/Region</th>\n",
       "      <th>Province/State</th>\n",
       "    </tr>\n",
       "  </thead>\n",
       "  <tbody>\n",
       "    <tr>\n",
       "      <th>missing_ratio</th>\n",
       "      <td>0.0</td>\n",
       "      <td>0.0</td>\n",
       "    </tr>\n",
       "    <tr>\n",
       "      <th>num_diff_vals</th>\n",
       "      <td>194</td>\n",
       "      <td>88</td>\n",
       "    </tr>\n",
       "    <tr>\n",
       "      <th>diff_vals</th>\n",
       "      <td>[Afghanistan, Albania, Algeria, Andorra, Angol...</td>\n",
       "      <td>[, Australian Capital Territory, New South Wal...</td>\n",
       "    </tr>\n",
       "  </tbody>\n",
       "</table>\n",
       "</div>"
      ],
      "text/plain": [
       "                                                  Country/Region  \\\n",
       "missing_ratio                                                0.0   \n",
       "num_diff_vals                                                194   \n",
       "diff_vals      [Afghanistan, Albania, Algeria, Andorra, Angol...   \n",
       "\n",
       "                                                  Province/State  \n",
       "missing_ratio                                                0.0  \n",
       "num_diff_vals                                                 88  \n",
       "diff_vals      [, Australian Capital Territory, New South Wal...  "
      ]
     },
     "execution_count": 15,
     "metadata": {},
     "output_type": "execute_result"
    }
   ],
   "source": [
    "cat_cols = list(set(covid19_df.columns) - set(num_cols))\n",
    "def missing_ratio(df):\n",
    "    return df.isna().mean() * 100\n",
    "def num_diff_vals(df):\n",
    "    return df.nunique()\n",
    "def diff_vals(df):\n",
    "    return df.unique()\n",
    "cate_col_profiles_df = covid19_df[cat_cols].agg([missing_ratio, num_diff_vals, diff_vals])\n",
    "cate_col_profiles_df"
   ]
  },
  {
   "cell_type": "markdown",
   "id": "d71891b1",
   "metadata": {},
   "source": [
    "## Dữ liệu categorical\n",
    "Dữ liệu không có giá trị thiếu\n",
    "<br>\n",
    "Dữ liệu có ít quốc gia trên thế giới hơn so với thực tế (194 quốc gia so với 204 quốc gia đã được xác nhận) ngoài ra không còn gì bất thường"
   ]
  },
  {
   "cell_type": "markdown",
   "id": "bf74c2d8",
   "metadata": {},
   "source": [
    "# 3. Trả lời câu hỏi"
   ]
  },
  {
   "cell_type": "markdown",
   "id": "cbef6d42",
   "metadata": {},
   "source": [
    "## Câu hỏi\n",
    "1. Những nước nào có tỉ lệ số người tử vong trên số người hồi phục thấp để chúng ta có thể học tập các biện pháp y tế của họ đồng thời những nước nào có tỉ lệ cao để chúng ta có thể rút kinh nghiệm từ những khó khăn của họ.\n",
    "<br><br>\n",
    "2. Trong vòng 1 tuần, 1 tháng qua, nước nào có số người nhiễm mới thấp so với thế giới. Từ đó chúng ta có thể học hỏi về cách phòng bệnh và mở cửa giao thương. Đồng thời chúng ta sẽ tìm những nước có người nhiễm cao để rút kinh nghiệm từ những khó khăn của họ và cảnh báo cho người dân không chủ quan.\n",
    "<br><br>\n",
    "3. Kiểm tra và thống kê dữ liệu của Việt Nam để chúng ta hiểu rõ hơn tình hình của chúng ta hiện tại để biết khả năng phòng chống và sự phức tạp của dịch bệnh này ở nước ta như thế nào."
   ]
  },
  {
   "cell_type": "markdown",
   "id": "d265c25a",
   "metadata": {},
   "source": [
    "# 4.Nhìn lại quá trình làm đồ án"
   ]
  },
  {
   "cell_type": "markdown",
   "id": "b01e9f48",
   "metadata": {},
   "source": [
    "# 5.Tài liệu tham khảo"
   ]
  },
  {
   "cell_type": "markdown",
   "id": "8de9f1ea",
   "metadata": {},
   "source": [
    "Tài liệu pandas: https://pandas.pydata.org/docs/reference/index.html\n",
    "<br>\n",
    "Tài liệu về covid-19 của trường Đại học John Hopkins: https://github.com/CSSEGISandData/COVID-19"
   ]
  },
  {
   "cell_type": "markdown",
   "id": "fb199b02",
   "metadata": {},
   "source": [
    "Dong E, Du H, Gardner L. An interactive web-based dashboard to track COVID-19 in real time. Lancet Inf Dis. 20(5):533-534. doi: 10.1016/S1473-3099(20)30120-1"
   ]
  }
 ],
 "metadata": {
  "kernelspec": {
   "display_name": "Python 3",
   "language": "python",
   "name": "python3"
  },
  "language_info": {
   "codemirror_mode": {
    "name": "ipython",
    "version": 3
   },
   "file_extension": ".py",
   "mimetype": "text/x-python",
   "name": "python",
   "nbconvert_exporter": "python",
   "pygments_lexer": "ipython3",
   "version": "3.8.10"
  }
 },
 "nbformat": 4,
 "nbformat_minor": 5
}
